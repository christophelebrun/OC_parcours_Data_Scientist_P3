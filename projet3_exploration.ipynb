{
 "cells": [
  {
   "cell_type": "markdown",
   "metadata": {
    "Collapsed": "false"
   },
   "source": [
    "## Import des modules"
   ]
  },
  {
   "cell_type": "code",
   "execution_count": 1,
   "metadata": {
    "Collapsed": "false"
   },
   "outputs": [],
   "source": [
    "import numpy as np\n",
    "import pandas as pd\n",
    "import matplotlib.pyplot as plt\n",
    "import seaborn as sns\n",
    "sns.set()"
   ]
  },
  {
   "cell_type": "markdown",
   "metadata": {
    "Collapsed": "false"
   },
   "source": [
    "## Chargement des données nettoyées"
   ]
  },
  {
   "cell_type": "code",
   "execution_count": 2,
   "metadata": {
    "Collapsed": "false"
   },
   "outputs": [
    {
     "name": "stderr",
     "output_type": "stream",
     "text": [
      "C:\\Users\\Lebrun\\Anaconda3\\envs\\DS_projet3\\lib\\site-packages\\pyarrow\\pandas_compat.py:752: FutureWarning: .labels was deprecated in version 0.24.0. Use .codes instead.\n",
      "  labels, = index.labels\n"
     ]
    },
    {
     "data": {
      "text/html": [
       "<div>\n",
       "<style scoped>\n",
       "    .dataframe tbody tr th:only-of-type {\n",
       "        vertical-align: middle;\n",
       "    }\n",
       "\n",
       "    .dataframe tbody tr th {\n",
       "        vertical-align: top;\n",
       "    }\n",
       "\n",
       "    .dataframe thead th {\n",
       "        text-align: right;\n",
       "    }\n",
       "</style>\n",
       "<table border=\"1\" class=\"dataframe\">\n",
       "  <thead>\n",
       "    <tr style=\"text-align: right;\">\n",
       "      <th></th>\n",
       "      <th>code</th>\n",
       "      <th>product_name</th>\n",
       "      <th>generic_name</th>\n",
       "      <th>quantity</th>\n",
       "      <th>packaging</th>\n",
       "      <th>packaging_tags</th>\n",
       "      <th>brands</th>\n",
       "      <th>brands_tags</th>\n",
       "      <th>categories</th>\n",
       "      <th>categories_tags</th>\n",
       "      <th>...</th>\n",
       "      <th>proteins_100g</th>\n",
       "      <th>salt_100g</th>\n",
       "      <th>sodium_100g</th>\n",
       "      <th>vitamin-a_100g</th>\n",
       "      <th>vitamin-c_100g</th>\n",
       "      <th>calcium_100g</th>\n",
       "      <th>iron_100g</th>\n",
       "      <th>nutrition-score-fr_100g</th>\n",
       "      <th>nutrition-score-uk_100g</th>\n",
       "      <th>imputed_fat_100g</th>\n",
       "    </tr>\n",
       "  </thead>\n",
       "  <tbody>\n",
       "    <tr>\n",
       "      <th>0</th>\n",
       "      <td>0000000000017</td>\n",
       "      <td>Vitória crackers</td>\n",
       "      <td>None</td>\n",
       "      <td>None</td>\n",
       "      <td>None</td>\n",
       "      <td>None</td>\n",
       "      <td>None</td>\n",
       "      <td>None</td>\n",
       "      <td>None</td>\n",
       "      <td>None</td>\n",
       "      <td>...</td>\n",
       "      <td>7.8</td>\n",
       "      <td>1.40000</td>\n",
       "      <td>0.551181</td>\n",
       "      <td>NaN</td>\n",
       "      <td>NaN</td>\n",
       "      <td>NaN</td>\n",
       "      <td>NaN</td>\n",
       "      <td>NaN</td>\n",
       "      <td>NaN</td>\n",
       "      <td>False</td>\n",
       "    </tr>\n",
       "    <tr>\n",
       "      <th>1</th>\n",
       "      <td>0000000000031</td>\n",
       "      <td>Cacao</td>\n",
       "      <td>None</td>\n",
       "      <td>130 g</td>\n",
       "      <td>None</td>\n",
       "      <td>None</td>\n",
       "      <td>None</td>\n",
       "      <td>None</td>\n",
       "      <td>None</td>\n",
       "      <td>None</td>\n",
       "      <td>...</td>\n",
       "      <td>5.6</td>\n",
       "      <td>0.52832</td>\n",
       "      <td>0.208000</td>\n",
       "      <td>NaN</td>\n",
       "      <td>NaN</td>\n",
       "      <td>NaN</td>\n",
       "      <td>NaN</td>\n",
       "      <td>NaN</td>\n",
       "      <td>NaN</td>\n",
       "      <td>True</td>\n",
       "    </tr>\n",
       "    <tr>\n",
       "      <th>2</th>\n",
       "      <td>0000000000123</td>\n",
       "      <td>Sauce Sweety chili 0%</td>\n",
       "      <td>None</td>\n",
       "      <td>None</td>\n",
       "      <td>None</td>\n",
       "      <td>None</td>\n",
       "      <td>None</td>\n",
       "      <td>None</td>\n",
       "      <td>None</td>\n",
       "      <td>None</td>\n",
       "      <td>...</td>\n",
       "      <td>0.2</td>\n",
       "      <td>2.04000</td>\n",
       "      <td>0.803150</td>\n",
       "      <td>NaN</td>\n",
       "      <td>NaN</td>\n",
       "      <td>NaN</td>\n",
       "      <td>NaN</td>\n",
       "      <td>NaN</td>\n",
       "      <td>NaN</td>\n",
       "      <td>False</td>\n",
       "    </tr>\n",
       "  </tbody>\n",
       "</table>\n",
       "<p>3 rows × 52 columns</p>\n",
       "</div>"
      ],
      "text/plain": [
       "            code           product_name generic_name quantity packaging  \\\n",
       "0  0000000000017       Vitória crackers         None     None      None   \n",
       "1  0000000000031                  Cacao         None    130 g      None   \n",
       "2  0000000000123  Sauce Sweety chili 0%         None     None      None   \n",
       "\n",
       "  packaging_tags brands brands_tags categories categories_tags  ...  \\\n",
       "0           None   None        None       None            None  ...   \n",
       "1           None   None        None       None            None  ...   \n",
       "2           None   None        None       None            None  ...   \n",
       "\n",
       "  proteins_100g salt_100g sodium_100g vitamin-a_100g vitamin-c_100g  \\\n",
       "0           7.8   1.40000    0.551181            NaN            NaN   \n",
       "1           5.6   0.52832    0.208000            NaN            NaN   \n",
       "2           0.2   2.04000    0.803150            NaN            NaN   \n",
       "\n",
       "  calcium_100g iron_100g nutrition-score-fr_100g nutrition-score-uk_100g  \\\n",
       "0          NaN       NaN                     NaN                     NaN   \n",
       "1          NaN       NaN                     NaN                     NaN   \n",
       "2          NaN       NaN                     NaN                     NaN   \n",
       "\n",
       "  imputed_fat_100g  \n",
       "0            False  \n",
       "1             True  \n",
       "2            False  \n",
       "\n",
       "[3 rows x 52 columns]"
      ]
     },
     "execution_count": 2,
     "metadata": {},
     "output_type": "execute_result"
    }
   ],
   "source": [
    "data_cleaned = pd.read_feather(\"p3_data3.ft\")\n",
    "data_cleaned.head(3)"
   ]
  },
  {
   "cell_type": "markdown",
   "metadata": {
    "Collapsed": "false"
   },
   "source": [
    "# Partie 1 - Visualisation par réduction dimensionnelle (t-SNE)"
   ]
  },
  {
   "cell_type": "markdown",
   "metadata": {
    "Collapsed": "false"
   },
   "source": [
    "### Encodage de la variable 'nutrition_grade_fr' (variable catégorielle ordinale)\n",
    "Nous encodons ces données afin de pouvoir afficher des étiquettes colorées avec la t-SNE."
   ]
  },
  {
   "cell_type": "code",
   "execution_count": 3,
   "metadata": {
    "Collapsed": "false"
   },
   "outputs": [],
   "source": [
    "feature = 'nutrition_grade_fr'\n",
    "\n",
    "# Create mapper\n",
    "scale_mapper = {\"a\":5,\n",
    "                \"b\":4,\n",
    "                \"c\":3,\n",
    "                \"d\":2,\n",
    "                \"e\":1,\n",
    "               }\n",
    "\n",
    "# Replace feature values with scale\n",
    "data_cleaned['nutrition_grade_fr_encoded'] = data_cleaned[feature].replace(scale_mapper)"
   ]
  },
  {
   "cell_type": "markdown",
   "metadata": {
    "Collapsed": "false"
   },
   "source": [
    "### Selection des variables pour la t-SNE"
   ]
  },
  {
   "cell_type": "code",
   "execution_count": 4,
   "metadata": {
    "Collapsed": "false"
   },
   "outputs": [],
   "source": [
    "# Selecting all the numeric columns\n",
    "subset = list(data_cleaned.select_dtypes(include=['number']).columns)\n",
    "\n",
    "# Adding the 'nutrition_grade_fr' feature (that will be used as label)\n",
    "subset.append('nutrition_grade_fr')\n",
    "\n",
    "# Keeping only the required columns in the dataframe\n",
    "X = data_cleaned[subset]\n",
    "\n",
    "# Dropping rows with missing values (not handled by t-SNE implementation)\n",
    "X = X.dropna(subset=subset)\n",
    "\n",
    "# Dropping an outlier by position\n",
    "outlier_index = 3761\n",
    "X = X.drop(X.index[outlier_index])\n",
    "\n",
    "# Defining the labels\n",
    "y = X[['nutrition_grade_fr', 'nutrition_grade_fr_encoded']]"
   ]
  },
  {
   "cell_type": "markdown",
   "metadata": {
    "Collapsed": "false"
   },
   "source": [
    "### Pré-traitement"
   ]
  },
  {
   "cell_type": "code",
   "execution_count": 5,
   "metadata": {
    "Collapsed": "false"
   },
   "outputs": [],
   "source": [
    "# Centering and reducting (except last column: 'nutrition_grade_fr')\n",
    "from sklearn import preprocessing\n",
    "std_scaler = preprocessing.StandardScaler().fit(X.iloc[:,:-2])\n",
    "X_std = std_scaler.transform(X.iloc[:,:-2])"
   ]
  },
  {
   "cell_type": "markdown",
   "metadata": {
    "Collapsed": "false"
   },
   "source": [
    "### Exécution de la t-SNE"
   ]
  },
  {
   "cell_type": "code",
   "execution_count": 6,
   "metadata": {
    "Collapsed": "false"
   },
   "outputs": [],
   "source": [
    "# Import libraries\n",
    "from sklearn import manifold\n",
    "\n",
    "# Instanciation of t-SNE\n",
    "tsne = manifold.TSNE(n_components=2,\n",
    "                     perplexity=30,\n",
    "                     n_iter=300,\n",
    "                     init='pca', # initialisation by a PCA\n",
    "                     # random_state=0 # pour la reproductibilité\n",
    "                    )\n",
    "\n",
    "# Applying the t-SNE\n",
    "X_projected = tsne.fit_transform(X_std) # t-SNE do not have \".transform\" method"
   ]
  },
  {
   "cell_type": "markdown",
   "metadata": {
    "Collapsed": "false"
   },
   "source": [
    "### Visualisation de la t-SNE en 2D\n",
    "Nous procédons à une visualisation des données, en fonction de leur note Nutri-Score ('nutrition_grade_fr'), par t-SNE."
   ]
  },
  {
   "cell_type": "code",
   "execution_count": 7,
   "metadata": {
    "Collapsed": "false"
   },
   "outputs": [
    {
     "data": {
      "image/png": "[encoded data removed]",
      "text/plain": [
       "<Figure size 720x720 with 1 Axes>"
      ]
     },
     "metadata": {
      "needs_background": "light"
     },
     "output_type": "display_data"
    }
   ],
   "source": [
    "# Graphical representation of the population\n",
    "plt.figure(figsize=(10,10))\n",
    "\n",
    "# Definitions of axis boundaries\n",
    "plt.xlim(X_projected[:,0].min(), X_projected[:,0].max())\n",
    "plt.ylim(X_projected[:,1].min(), X_projected[:,1].max())\n",
    "\n",
    "# Definition of axis'labels\n",
    "plt.title(\"t-SNE\\n\")\n",
    "plt.xlabel(\"t-SNE feature 1\")\n",
    "plt.ylabel(\"t-SNE feature 2\")\n",
    "\n",
    "# Glyphes and colors are representing 'Nutri-Score grades'\n",
    "for i in range(len(X_projected)):\n",
    "    plt.text(X_projected[:,0][i], # x-coordinate\n",
    "             X_projected[:,1][i], # y-coordinate\n",
    "             y.iloc[i,0], # labels\n",
    "             color=plt.cm.RdYlGn(int(y.iloc[i,1])/5.)\n",
    "    )"
   ]
  },
  {
   "cell_type": "raw",
   "metadata": {
    "Collapsed": "false"
   },
   "source": [
    "# Holding outliers\n",
    "\n",
    "# Getting position of outliers\n",
    "outlier_iloc = X_projected[:,0].argmax()\n",
    "print(outlier_iloc)\n",
    "\n",
    "# Getting label index from positional index\n",
    "outlier_index = int(X.iloc[outlier_iloc].name)\n",
    "print(outlier_index)"
   ]
  },
  {
   "cell_type": "markdown",
   "metadata": {
    "Collapsed": "false"
   },
   "source": [
    "Nous constatons que, en lisant le graphique de gauche à droite, l'algorithme t-SNE a réussi à saisir la structure des données : les produits sont (globalement) classées par Nutri-Score. De plus, les grappes (\"clusters\") sont homogènes en terme de score de nutrition."
   ]
  },
  {
   "cell_type": "markdown",
   "metadata": {
    "Collapsed": "false"
   },
   "source": [
    "# Partie 2 - Analyses univariées"
   ]
  },
  {
   "cell_type": "markdown",
   "metadata": {
    "Collapsed": "false"
   },
   "source": [
    "# 2.A Variable 'nutrition-score-fr_100g' (quantitative)\n",
    "Nous allons étudier en détail la variable 'nutrition-score-fr_100g' qui va jouer un rôle crucial pour notre application."
   ]
  },
  {
   "cell_type": "markdown",
   "metadata": {
    "Collapsed": "false"
   },
   "source": [
    "### Taux de remplissage"
   ]
  },
  {
   "cell_type": "code",
   "execution_count": 8,
   "metadata": {
    "Collapsed": "false"
   },
   "outputs": [],
   "source": [
    "def feature_filling_rate(dataframe, feature):\n",
    "    \"\"\"Calculate and displays the filling rate for a particular column in a pd.DataFrame.\"\"\"\n",
    "    \n",
    "    # Count of the values on each column\n",
    "    values_count = dataframe[feature].count()\n",
    "\n",
    "    # Calculating filling rates\n",
    "    nb_rows = dataframe.shape[0]\n",
    "    filling_rate = values_count / nb_rows\n",
    "\n",
    "    # Displaying and returning result\n",
    "    print(\"The filling rate of the column '{}' is: {:.2%}\".format(feature, filling_rate))\n",
    "    return filling_rate"
   ]
  },
  {
   "cell_type": "code",
   "execution_count": 9,
   "metadata": {
    "Collapsed": "false"
   },
   "outputs": [
    {
     "name": "stdout",
     "output_type": "stream",
     "text": [
      "The filling rate of the column 'nutrition-score-fr_100g' is: 27.38%\n"
     ]
    },
    {
     "data": {
      "text/plain": [
       "0.273802322610251"
      ]
     },
     "execution_count": 9,
     "metadata": {},
     "output_type": "execute_result"
    }
   ],
   "source": [
    "dataframe = data_cleaned\n",
    "feature = 'nutrition-score-fr_100g'\n",
    "feature_filling_rate(dataframe, feature)"
   ]
  },
  {
   "cell_type": "markdown",
   "metadata": {
    "Collapsed": "false"
   },
   "source": [
    "### Résumé statistique"
   ]
  },
  {
   "cell_type": "code",
   "execution_count": 10,
   "metadata": {
    "Collapsed": "false"
   },
   "outputs": [
    {
     "data": {
      "text/plain": [
       "count    210025.000000\n",
       "mean         55.366146\n",
       "std          15.990228\n",
       "min           0.000000\n",
       "25%          43.636364\n",
       "50%          52.727272\n",
       "75%          69.090912\n",
       "max         100.000000\n",
       "Name: nutrition-score-fr_100g, dtype: float64"
      ]
     },
     "execution_count": 10,
     "metadata": {},
     "output_type": "execute_result"
    }
   ],
   "source": [
    "data_cleaned['nutrition-score-fr_100g'].describe()"
   ]
  },
  {
   "cell_type": "markdown",
   "metadata": {
    "Collapsed": "false"
   },
   "source": [
    "Nous en déduisons les principaux indicateurs statistiques pour la variable 'nutrition-score-fr_100g' :\n",
    "* indicateurs de tendance centrale :\n",
    "    * moyenne\n",
    "    * médiane (50ème percentile)\n",
    "\n",
    "\n",
    "* indicateurs de dispersion :\n",
    "    * écart-type\n",
    "    * étendue : max - min\n",
    "    * intervalle interquartile IQR = Q3 - Q1"
   ]
  },
  {
   "cell_type": "markdown",
   "metadata": {
    "Collapsed": "false"
   },
   "source": [
    "### Distribution statistique empirique"
   ]
  },
  {
   "cell_type": "code",
   "execution_count": 11,
   "metadata": {
    "Collapsed": "false"
   },
   "outputs": [],
   "source": [
    "def univariate_distribution(dataframe,feature):\n",
    "    \"\"\"Function plotting the histogram and boxplot (as subplots) for a distribution.\"\"\"\n",
    "    \n",
    "    # importing libraries\n",
    "    import matplotlib.pyplot as plt\n",
    "\n",
    "    # filtering non-null data\n",
    "    mask = dataframe[feature].notnull()\n",
    "    data_view = dataframe[mask]\n",
    "    \n",
    "    # Setting the data to plot\n",
    "    x=data_view[feature]\n",
    "    \n",
    "    # Graphical properties of the main figure\n",
    "    fig = plt.figure(figsize=(20, 10))\n",
    "    \n",
    "    plt.suptitle(\"Empiric statistical distribution: \" + feature, fontsize=25)\n",
    "    \n",
    "    # Main graphical properties of the first subplot (histogram)\n",
    "    ax1 = plt.subplot(211)\n",
    "    ax1.set_ylabel(\"Frequency\", fontsize=20)\n",
    "\n",
    "    # Main graphical properties of the second subplot (boxplot)\n",
    "    ax2 = plt.subplot(212)\n",
    "    ax2.set_xlabel(\"Value\", fontsize=20)\n",
    "    medianprops = {'color':\"black\"}\n",
    "    meanprops = {'marker':'o', 'markeredgecolor':'black', 'markerfacecolor':'firebrick'}\n",
    "    \n",
    "    # plotting the plots\n",
    "    ax1.hist(x, bins=21)\n",
    "    ax2.boxplot(data_view[feature], showfliers=True, medianprops=medianprops, \n",
    "            vert=False, patch_artist=True, showmeans=True, meanprops=meanprops)\n",
    "    plt.show()"
   ]
  },
  {
   "cell_type": "code",
   "execution_count": 12,
   "metadata": {
    "Collapsed": "false"
   },
   "outputs": [
    {
     "data": {
      "image/png": "[encoded data removed]",
      "text/plain": [
       "<Figure size 1440x720 with 2 Axes>"
      ]
     },
     "metadata": {
      "needs_background": "light"
     },
     "output_type": "display_data"
    }
   ],
   "source": [
    "# Plotting the bar chart and box-plot for the statistical distribution\n",
    "univariate_distribution(data_cleaned,'nutrition-score-fr_100g')"
   ]
  },
  {
   "cell_type": "markdown",
   "metadata": {
    "Collapsed": "false"
   },
   "source": [
    "**Attention :** l'extrémité de la moustache de gauche représente la valeur minimale (min = -15) alors que l'extrémité de la moustache de droite représente la limite des \"outliers\" (Q3 + 1,5\\*IQR). (*whiskers: the vertical lines extending to the most extreme, non-outlier data points.*)"
   ]
  },
  {
   "cell_type": "markdown",
   "metadata": {
    "Collapsed": "false"
   },
   "source": [
    "Nous observons une distribution bimodale. En général, une distribution bimodale indique une distribution non-gaussienne. Nous allons donc effectuer des tests statistiques pour tester cette hypothèse."
   ]
  },
  {
   "cell_type": "markdown",
   "metadata": {
    "Collapsed": "false"
   },
   "source": [
    "## Tests de normalité\n",
    "\n",
    "Nous allons tester la normalité de la distribution statistique. Voici le test statistique :\n",
    "\n",
    "    H0 : les valeurs de la variable 'nutrition-score-fr_100g' pour l'échantillon sont issus d'une population normalement distribuée.\n",
    "\n",
    "    H1 :  les valeurs de la variable 'nutrition-score-fr_100g' pour l'échantillon NE sont PAS issus d'une population normalement distribuée"
   ]
  },
  {
   "cell_type": "markdown",
   "metadata": {
    "Collapsed": "false"
   },
   "source": [
    "### Test de Shapiro-Wilk"
   ]
  },
  {
   "cell_type": "code",
   "execution_count": 13,
   "metadata": {
    "Collapsed": "false"
   },
   "outputs": [
    {
     "name": "stderr",
     "output_type": "stream",
     "text": [
      "C:\\Users\\Lebrun\\Anaconda3\\envs\\DS_projet3\\lib\\site-packages\\scipy\\stats\\morestats.py:1653: UserWarning: p-value may not be accurate for N > 5000.\n",
      "  warnings.warn(\"p-value may not be accurate for N > 5000.\")\n"
     ]
    },
    {
     "data": {
      "text/plain": [
       "(0.9748420119285583, 0.0)"
      ]
     },
     "execution_count": 13,
     "metadata": {},
     "output_type": "execute_result"
    }
   ],
   "source": [
    "from scipy.stats import shapiro\n",
    "\n",
    "# filtering non-null data for the feature\n",
    "mask = data_cleaned['nutrition-score-fr_100g'].notnull()\n",
    "data_view = data_cleaned[mask]\n",
    "data_nutrition_score = data_view['nutrition-score-fr_100g']\n",
    "\n",
    "# processing the Shopiro-Wilk test\n",
    "shapiro(data_nutrition_score)"
   ]
  },
  {
   "cell_type": "markdown",
   "metadata": {
    "Collapsed": "false"
   },
   "source": [
    "Nous recevons un avertissement selon lequel la valeur de la p-value n'est peut-être pas correcte en raison de la trop grande taille de l'échantillon. Nous allons donc procéder à un test alternatif : le test d'Anderson-Darling pour la normalité."
   ]
  },
  {
   "cell_type": "markdown",
   "metadata": {
    "Collapsed": "false"
   },
   "source": [
    "### Test d'Anderson-Darling"
   ]
  },
  {
   "cell_type": "code",
   "execution_count": 14,
   "metadata": {
    "Collapsed": "false"
   },
   "outputs": [
    {
     "data": {
      "text/plain": [
       "AndersonResult(statistic=1843.115974090906, critical_values=array([0.576, 0.656, 0.787, 0.918, 1.092]), significance_level=array([15. , 10. ,  5. ,  2.5,  1. ]))"
      ]
     },
     "execution_count": 14,
     "metadata": {},
     "output_type": "execute_result"
    }
   ],
   "source": [
    "from scipy.stats import anderson\n",
    "\n",
    "# filtering non-null data for the feature\n",
    "mask = data_cleaned['nutrition-score-fr_100g'].notnull()\n",
    "data_view = data_cleaned[mask]\n",
    "data_nutrition_score = data_view['nutrition-score-fr_100g']\n",
    "\n",
    "# processing the Anderson-Darling test\n",
    "anderson(data_nutrition_score, dist='norm')"
   ]
  },
  {
   "cell_type": "markdown",
   "metadata": {
    "Collapsed": "false"
   },
   "source": [
    "La statistique de test A2 du test d'Anderson-Darling étant plus grande que la valeur critique au niveau de risque 1%, nous pouvons rejeter l'hypothèse nulle (selon laquelle les données proviennent d'une distribution normale) au risque de 1%."
   ]
  },
  {
   "cell_type": "markdown",
   "metadata": {
    "Collapsed": "false"
   },
   "source": [
    "### Test de Kolmogorov-Smirnov"
   ]
  },
  {
   "cell_type": "code",
   "execution_count": 15,
   "metadata": {
    "Collapsed": "false"
   },
   "outputs": [
    {
     "data": {
      "text/plain": [
       "KstestResult(statistic=0.9999761687611887, pvalue=0.0)"
      ]
     },
     "execution_count": 15,
     "metadata": {},
     "output_type": "execute_result"
    }
   ],
   "source": [
    "from scipy.stats import kstest\n",
    "\n",
    "# filtering non-null data for the feature\n",
    "mask = data_cleaned['nutrition-score-fr_100g'].notnull()\n",
    "data_view = data_cleaned[mask]\n",
    "data_nutrition_score = data_view['nutrition-score-fr_100g']\n",
    "\n",
    "# performing the Kolmogorov-Smirnov test against normal distribution\n",
    "kstest(data_nutrition_score, cdf='norm')"
   ]
  },
  {
   "cell_type": "markdown",
   "metadata": {
    "Collapsed": "false"
   },
   "source": [
    "La p-value du test de Kolmogorov-Smirnov étant proche de 0, nous pouvons rejeter l'hypothèse nulle (selon laquelle les données proviennent d'une distribution normale) avec un risque négligeable de se tromper."
   ]
  },
  {
   "cell_type": "markdown",
   "metadata": {
    "Collapsed": "false"
   },
   "source": [
    "### Test du K2 de D'Agostino"
   ]
  },
  {
   "cell_type": "code",
   "execution_count": 16,
   "metadata": {
    "Collapsed": "false"
   },
   "outputs": [
    {
     "name": "stdout",
     "output_type": "stream",
     "text": [
      "Sample does not look Gaussian (reject H0)\n"
     ]
    }
   ],
   "source": [
    "from scipy.stats import normaltest\n",
    "\n",
    "# filtering non-null data for the feature\n",
    "mask = data_cleaned['nutrition-score-fr_100g'].notnull()\n",
    "data_view = data_cleaned[mask]\n",
    "data_nutrition_score = data_view['nutrition-score-fr_100g']\n",
    "\n",
    "# Performing D'Agostino's K2 test\n",
    "stat, p = normaltest(data_nutrition_score)\n",
    "\n",
    "# interpret\n",
    "alpha = 0.05\n",
    "if p > alpha:\n",
    "    msg = 'Sample looks Gaussian (fail to reject H0)'\n",
    "else:\n",
    "    msg = 'Sample does not look Gaussian (reject H0)'\n",
    "    \n",
    "print(msg)"
   ]
  },
  {
   "cell_type": "markdown",
   "metadata": {
    "Collapsed": "false"
   },
   "source": [
    "Tous les tests sont cohérents.\n",
    "\n",
    "La non-normalité de la distribution de la variables est seulement gènante pour la significativité d'autres tests statistiques qui font l'hypothèse de normalité."
   ]
  },
  {
   "cell_type": "markdown",
   "metadata": {
    "Collapsed": "false"
   },
   "source": [
    "## Etude des valeurs hors-norme (*outliers*) pour le score de nutrition"
   ]
  },
  {
   "cell_type": "code",
   "execution_count": 17,
   "metadata": {
    "Collapsed": "false"
   },
   "outputs": [],
   "source": [
    "def select_outliers(dataframe, feature):\n",
    "    \"\"\"This function return a view of dataframe with outliers.\n",
    "    Outliers are those with value less than (Q1 + 1.5*IQR) or bigger than (Q3 + 1.5*IQR)\"\"\"\n",
    "    \n",
    "    Q1 = dataframe[feature].quantile(q=0.25, interpolation='linear')   # first quartile\n",
    "    Q3 = dataframe[feature].quantile(q=0.75, interpolation='linear')   # third quartile\n",
    "    IQR = Q3 - Q1                                                      # inter-quartile range\n",
    "    \n",
    "    # definition of mask\n",
    "    mask = (dataframe[feature] < Q1 - 1.5*IQR) | (dataframe[feature] > Q3 + 1.5*IQR)\n",
    "    \n",
    "    # application of mask\n",
    "    outliers = dataframe[mask]\n",
    "    \n",
    "    return outliers"
   ]
  },
  {
   "cell_type": "code",
   "execution_count": 18,
   "metadata": {
    "Collapsed": "false"
   },
   "outputs": [
    {
     "data": {
      "text/html": [
       "<div>\n",
       "<style scoped>\n",
       "    .dataframe tbody tr th:only-of-type {\n",
       "        vertical-align: middle;\n",
       "    }\n",
       "\n",
       "    .dataframe tbody tr th {\n",
       "        vertical-align: top;\n",
       "    }\n",
       "\n",
       "    .dataframe thead th {\n",
       "        text-align: right;\n",
       "    }\n",
       "</style>\n",
       "<table border=\"1\" class=\"dataframe\">\n",
       "  <thead>\n",
       "    <tr style=\"text-align: right;\">\n",
       "      <th></th>\n",
       "      <th>code</th>\n",
       "      <th>product_name</th>\n",
       "      <th>generic_name</th>\n",
       "      <th>quantity</th>\n",
       "      <th>packaging</th>\n",
       "      <th>packaging_tags</th>\n",
       "      <th>brands</th>\n",
       "      <th>brands_tags</th>\n",
       "      <th>categories</th>\n",
       "      <th>categories_tags</th>\n",
       "      <th>categories_en</th>\n",
       "      <th>labels</th>\n",
       "      <th>labels_tags</th>\n",
       "      <th>labels_en</th>\n",
       "      <th>purchase_places</th>\n",
       "      <th>stores</th>\n",
       "      <th>countries</th>\n",
       "      <th>countries_tags</th>\n",
       "      <th>countries_en</th>\n",
       "      <th>ingredients_text</th>\n",
       "      <th>serving_size</th>\n",
       "      <th>serving_quantity</th>\n",
       "      <th>additives_n</th>\n",
       "      <th>additives</th>\n",
       "      <th>additives_tags</th>\n",
       "      <th>additives_en</th>\n",
       "      <th>ingredients_from_palm_oil_n</th>\n",
       "      <th>ingredients_that_may_be_from_palm_oil_n</th>\n",
       "      <th>nutrition_grade_fr</th>\n",
       "      <th>nova_group</th>\n",
       "      <th>pnns_groups_1</th>\n",
       "      <th>pnns_groups_2</th>\n",
       "      <th>main_category</th>\n",
       "      <th>main_category_en</th>\n",
       "      <th>energy_100g</th>\n",
       "      <th>fat_100g</th>\n",
       "      <th>saturated-fat_100g</th>\n",
       "      <th>trans-fat_100g</th>\n",
       "      <th>cholesterol_100g</th>\n",
       "      <th>carbohydrates_100g</th>\n",
       "      <th>sugars_100g</th>\n",
       "      <th>fiber_100g</th>\n",
       "      <th>proteins_100g</th>\n",
       "      <th>salt_100g</th>\n",
       "      <th>sodium_100g</th>\n",
       "      <th>vitamin-a_100g</th>\n",
       "      <th>vitamin-c_100g</th>\n",
       "      <th>calcium_100g</th>\n",
       "      <th>iron_100g</th>\n",
       "      <th>nutrition-score-fr_100g</th>\n",
       "      <th>nutrition-score-uk_100g</th>\n",
       "      <th>imputed_fat_100g</th>\n",
       "      <th>nutrition_grade_fr_encoded</th>\n",
       "    </tr>\n",
       "  </thead>\n",
       "  <tbody>\n",
       "    <tr>\n",
       "      <th>94379</th>\n",
       "      <td>0074323046199</td>\n",
       "      <td>Cajeta Quemada</td>\n",
       "      <td>Cajeta quemada espreable</td>\n",
       "      <td>660 g</td>\n",
       "      <td>Botella de plastico</td>\n",
       "      <td>botella-de-plastico</td>\n",
       "      <td>Coronado</td>\n",
       "      <td>coronado</td>\n",
       "      <td>Lácteos, Postres, Postres lácteos, en:Productos</td>\n",
       "      <td>en:dairies,en:desserts,en:dairy-desserts,en:pr...</td>\n",
       "      <td>Dairies,Desserts,Dairy desserts,Productos</td>\n",
       "      <td>None</td>\n",
       "      <td>None</td>\n",
       "      <td>None</td>\n",
       "      <td>Walmart</td>\n",
       "      <td>Walmart,Bodega Aurrera,Soriana,Mercado Soriana...</td>\n",
       "      <td>México,Estados Unidos</td>\n",
       "      <td>en:mexico,en:united-states</td>\n",
       "      <td>Mexico,United States</td>\n",
       "      <td>LECHE DE CABRA (57% ), GLUCOSA, AZUCAR, MALTIT...</td>\n",
       "      <td>30 g</td>\n",
       "      <td>30.0</td>\n",
       "      <td>3.0</td>\n",
       "      <td>[ leche-de-cabra -&gt; es:leche-de-cabra  ]  [ 5...</td>\n",
       "      <td>en:e202,en:e500,en:e500ii,en:e965,en:e965i</td>\n",
       "      <td>E202 - Potassium sorbate,E500 - Sodium carbona...</td>\n",
       "      <td>0.0</td>\n",
       "      <td>0.0</td>\n",
       "      <td>e</td>\n",
       "      <td>4.0</td>\n",
       "      <td>Milk and dairy products</td>\n",
       "      <td>Dairy desserts</td>\n",
       "      <td>en:dairies</td>\n",
       "      <td>Dairies</td>\n",
       "      <td>6320.0</td>\n",
       "      <td>8.330000</td>\n",
       "      <td>8.33</td>\n",
       "      <td>0.0</td>\n",
       "      <td>0.0</td>\n",
       "      <td>66.699997</td>\n",
       "      <td>46.700001</td>\n",
       "      <td>0.0</td>\n",
       "      <td>6.670000</td>\n",
       "      <td>296.00</td>\n",
       "      <td>117.000000</td>\n",
       "      <td>0.0</td>\n",
       "      <td>0.0</td>\n",
       "      <td>1.67</td>\n",
       "      <td>0.0</td>\n",
       "      <td>3.636364</td>\n",
       "      <td>38.0</td>\n",
       "      <td>False</td>\n",
       "      <td>1.0</td>\n",
       "    </tr>\n",
       "    <tr>\n",
       "      <th>284807</th>\n",
       "      <td>3222471981634</td>\n",
       "      <td>10 Pains au lait</td>\n",
       "      <td>10 Pains au lait</td>\n",
       "      <td>350 g</td>\n",
       "      <td>Sachet,Plastique</td>\n",
       "      <td>sachet,plastique</td>\n",
       "      <td>Casino</td>\n",
       "      <td>casino</td>\n",
       "      <td>Snacks, Petit-déjeuners, Snacks sucrés, Vienno...</td>\n",
       "      <td>en:snacks,en:breakfasts,en:sweet-snacks,en:vie...</td>\n",
       "      <td>Snacks,Breakfasts,Sweet snacks,Viennoiseries,M...</td>\n",
       "      <td>None</td>\n",
       "      <td>None</td>\n",
       "      <td>None</td>\n",
       "      <td>None</td>\n",
       "      <td>Casino</td>\n",
       "      <td>France</td>\n",
       "      <td>en:france</td>\n",
       "      <td>France</td>\n",
       "      <td>Farine de _blé_ - sucre - _oeufs_ frais 10,8% ...</td>\n",
       "      <td>35g</td>\n",
       "      <td>35.0</td>\n",
       "      <td>4.0</td>\n",
       "      <td>[ farine-de-ble -&gt; fr:farine-de-ble  ]  [ far...</td>\n",
       "      <td>en:e160,en:e300,en:e417,en:e481</td>\n",
       "      <td>E160 - Carotene,E300 - Ascorbic acid,E417 - Ta...</td>\n",
       "      <td>0.0</td>\n",
       "      <td>1.0</td>\n",
       "      <td>e</td>\n",
       "      <td>4.0</td>\n",
       "      <td>sugary-snacks</td>\n",
       "      <td>pastries</td>\n",
       "      <td>en:snacks</td>\n",
       "      <td>Snacks</td>\n",
       "      <td>4260.0</td>\n",
       "      <td>34.299999</td>\n",
       "      <td>10.60</td>\n",
       "      <td>NaN</td>\n",
       "      <td>NaN</td>\n",
       "      <td>154.000000</td>\n",
       "      <td>37.099998</td>\n",
       "      <td>NaN</td>\n",
       "      <td>21.700001</td>\n",
       "      <td>3.43</td>\n",
       "      <td>1.350000</td>\n",
       "      <td>NaN</td>\n",
       "      <td>NaN</td>\n",
       "      <td>NaN</td>\n",
       "      <td>NaN</td>\n",
       "      <td>3.636364</td>\n",
       "      <td>38.0</td>\n",
       "      <td>False</td>\n",
       "      <td>1.0</td>\n",
       "    </tr>\n",
       "    <tr>\n",
       "      <th>453076</th>\n",
       "      <td>3596710436903</td>\n",
       "      <td>Chocolat gourmand mmm!</td>\n",
       "      <td>Chocolat en poudre</td>\n",
       "      <td>500g</td>\n",
       "      <td>Boîte,Métal</td>\n",
       "      <td>boite,metal</td>\n",
       "      <td>Mmm !,Auchan</td>\n",
       "      <td>mmm,auchan</td>\n",
       "      <td>Boissons, Petit-déjeuners, Boissons instantané...</td>\n",
       "      <td>en:beverages,en:breakfasts,en:instant-beverage...</td>\n",
       "      <td>Beverages,Breakfasts,Instant beverages,Cocoa a...</td>\n",
       "      <td>Sans gluten</td>\n",
       "      <td>en:gluten-free</td>\n",
       "      <td>Gluten-free</td>\n",
       "      <td>France</td>\n",
       "      <td>Auchan</td>\n",
       "      <td>France</td>\n",
       "      <td>en:france</td>\n",
       "      <td>France</td>\n",
       "      <td>Chocolat en poudre (sucre, cacao en poudre), a...</td>\n",
       "      <td>15g</td>\n",
       "      <td>15.0</td>\n",
       "      <td>0.0</td>\n",
       "      <td>[ chocolat-en-poudre -&gt; fr:chocolat-en-poudre...</td>\n",
       "      <td>None</td>\n",
       "      <td>None</td>\n",
       "      <td>0.0</td>\n",
       "      <td>0.0</td>\n",
       "      <td>e</td>\n",
       "      <td>4.0</td>\n",
       "      <td>unknown</td>\n",
       "      <td>unknown</td>\n",
       "      <td>en:beverages</td>\n",
       "      <td>Beverages</td>\n",
       "      <td>331.0</td>\n",
       "      <td>1.900000</td>\n",
       "      <td>1.20</td>\n",
       "      <td>NaN</td>\n",
       "      <td>NaN</td>\n",
       "      <td>9.300000</td>\n",
       "      <td>9.300000</td>\n",
       "      <td>0.0</td>\n",
       "      <td>3.400000</td>\n",
       "      <td>0.14</td>\n",
       "      <td>0.055118</td>\n",
       "      <td>NaN</td>\n",
       "      <td>NaN</td>\n",
       "      <td>NaN</td>\n",
       "      <td>NaN</td>\n",
       "      <td>3.636364</td>\n",
       "      <td>38.0</td>\n",
       "      <td>False</td>\n",
       "      <td>1.0</td>\n",
       "    </tr>\n",
       "    <tr>\n",
       "      <th>551723</th>\n",
       "      <td>4250350518458</td>\n",
       "      <td>whey chocolat</td>\n",
       "      <td>whey chocolat</td>\n",
       "      <td>15 g</td>\n",
       "      <td>None</td>\n",
       "      <td>None</td>\n",
       "      <td>Body Attack</td>\n",
       "      <td>body-attack</td>\n",
       "      <td>Compléments alimentaires, Compléments pour le ...</td>\n",
       "      <td>en:dietary-supplements,en:bodybuilding-supplem...</td>\n",
       "      <td>Dietary supplements,Bodybuilding supplements,P...</td>\n",
       "      <td>None</td>\n",
       "      <td>None</td>\n",
       "      <td>None</td>\n",
       "      <td>France</td>\n",
       "      <td>None</td>\n",
       "      <td>France</td>\n",
       "      <td>en:france</td>\n",
       "      <td>France</td>\n",
       "      <td>Whey protein concentrate (89,5%), Low-fat coco...</td>\n",
       "      <td>15 g</td>\n",
       "      <td>15.0</td>\n",
       "      <td>2.0</td>\n",
       "      <td>[ whey-protein-concentrate -&gt; fr:whey-protein...</td>\n",
       "      <td>en:e950,en:e955</td>\n",
       "      <td>E950 - Acesulfame k,E955 - Sucralose</td>\n",
       "      <td>0.0</td>\n",
       "      <td>0.0</td>\n",
       "      <td>e</td>\n",
       "      <td>4.0</td>\n",
       "      <td>unknown</td>\n",
       "      <td>unknown</td>\n",
       "      <td>en:dietary-supplements</td>\n",
       "      <td>Dietary supplements</td>\n",
       "      <td>3570.0</td>\n",
       "      <td>21.299999</td>\n",
       "      <td>12.00</td>\n",
       "      <td>NaN</td>\n",
       "      <td>NaN</td>\n",
       "      <td>56.000000</td>\n",
       "      <td>54.000000</td>\n",
       "      <td>0.0</td>\n",
       "      <td>110.000000</td>\n",
       "      <td>2.33</td>\n",
       "      <td>0.919000</td>\n",
       "      <td>NaN</td>\n",
       "      <td>NaN</td>\n",
       "      <td>NaN</td>\n",
       "      <td>NaN</td>\n",
       "      <td>0.000000</td>\n",
       "      <td>40.0</td>\n",
       "      <td>False</td>\n",
       "      <td>1.0</td>\n",
       "    </tr>\n",
       "    <tr>\n",
       "      <th>614435</th>\n",
       "      <td>5420008590627</td>\n",
       "      <td>Capsules Nez-Gorge</td>\n",
       "      <td>None</td>\n",
       "      <td>None</td>\n",
       "      <td>None</td>\n",
       "      <td>None</td>\n",
       "      <td>Pranarōm</td>\n",
       "      <td>pranarōm</td>\n",
       "      <td>Compléments alimentaires</td>\n",
       "      <td>en:dietary-supplements</td>\n",
       "      <td>Dietary supplements</td>\n",
       "      <td>None</td>\n",
       "      <td>None</td>\n",
       "      <td>None</td>\n",
       "      <td>None</td>\n",
       "      <td>None</td>\n",
       "      <td>France</td>\n",
       "      <td>en:france</td>\n",
       "      <td>France</td>\n",
       "      <td>Huile végétale : Brassica napus (Colza); Marin...</td>\n",
       "      <td>None</td>\n",
       "      <td>NaN</td>\n",
       "      <td>4.0</td>\n",
       "      <td>[ huile-vegetale -&gt; fr:huile-vegetale  ]  [ h...</td>\n",
       "      <td>en:e307,en:e307c,en:e422,en:e428</td>\n",
       "      <td>E307 - Alpha-tocopherol,E307c - Tocopherol,E42...</td>\n",
       "      <td>0.0</td>\n",
       "      <td>1.0</td>\n",
       "      <td>e</td>\n",
       "      <td>3.0</td>\n",
       "      <td>unknown</td>\n",
       "      <td>unknown</td>\n",
       "      <td>en:dietary-supplements</td>\n",
       "      <td>Dietary supplements</td>\n",
       "      <td>3347.0</td>\n",
       "      <td>40.000000</td>\n",
       "      <td>15.00</td>\n",
       "      <td>NaN</td>\n",
       "      <td>NaN</td>\n",
       "      <td>60.000000</td>\n",
       "      <td>55.000000</td>\n",
       "      <td>NaN</td>\n",
       "      <td>0.000000</td>\n",
       "      <td>100.00</td>\n",
       "      <td>39.370079</td>\n",
       "      <td>NaN</td>\n",
       "      <td>NaN</td>\n",
       "      <td>NaN</td>\n",
       "      <td>NaN</td>\n",
       "      <td>1.818182</td>\n",
       "      <td>39.0</td>\n",
       "      <td>False</td>\n",
       "      <td>1.0</td>\n",
       "    </tr>\n",
       "  </tbody>\n",
       "</table>\n",
       "</div>"
      ],
      "text/plain": [
       "                 code            product_name              generic_name  \\\n",
       "94379   0074323046199          Cajeta Quemada  Cajeta quemada espreable   \n",
       "284807  3222471981634        10 Pains au lait          10 Pains au lait   \n",
       "453076  3596710436903  Chocolat gourmand mmm!        Chocolat en poudre   \n",
       "551723  4250350518458           whey chocolat             whey chocolat   \n",
       "614435  5420008590627      Capsules Nez-Gorge                      None   \n",
       "\n",
       "       quantity            packaging       packaging_tags        brands  \\\n",
       "94379     660 g  Botella de plastico  botella-de-plastico      Coronado   \n",
       "284807    350 g     Sachet,Plastique     sachet,plastique        Casino   \n",
       "453076     500g          Boîte,Métal          boite,metal  Mmm !,Auchan   \n",
       "551723     15 g                 None                 None   Body Attack   \n",
       "614435     None                 None                 None      Pranarōm   \n",
       "\n",
       "        brands_tags                                         categories  \\\n",
       "94379      coronado    Lácteos, Postres, Postres lácteos, en:Productos   \n",
       "284807       casino  Snacks, Petit-déjeuners, Snacks sucrés, Vienno...   \n",
       "453076   mmm,auchan  Boissons, Petit-déjeuners, Boissons instantané...   \n",
       "551723  body-attack  Compléments alimentaires, Compléments pour le ...   \n",
       "614435     pranarōm                           Compléments alimentaires   \n",
       "\n",
       "                                          categories_tags  \\\n",
       "94379   en:dairies,en:desserts,en:dairy-desserts,en:pr...   \n",
       "284807  en:snacks,en:breakfasts,en:sweet-snacks,en:vie...   \n",
       "453076  en:beverages,en:breakfasts,en:instant-beverage...   \n",
       "551723  en:dietary-supplements,en:bodybuilding-supplem...   \n",
       "614435                             en:dietary-supplements   \n",
       "\n",
       "                                            categories_en       labels  \\\n",
       "94379           Dairies,Desserts,Dairy desserts,Productos         None   \n",
       "284807  Snacks,Breakfasts,Sweet snacks,Viennoiseries,M...         None   \n",
       "453076  Beverages,Breakfasts,Instant beverages,Cocoa a...  Sans gluten   \n",
       "551723  Dietary supplements,Bodybuilding supplements,P...         None   \n",
       "614435                                Dietary supplements         None   \n",
       "\n",
       "           labels_tags    labels_en purchase_places  \\\n",
       "94379             None         None         Walmart   \n",
       "284807            None         None            None   \n",
       "453076  en:gluten-free  Gluten-free          France   \n",
       "551723            None         None          France   \n",
       "614435            None         None            None   \n",
       "\n",
       "                                                   stores  \\\n",
       "94379   Walmart,Bodega Aurrera,Soriana,Mercado Soriana...   \n",
       "284807                                             Casino   \n",
       "453076                                             Auchan   \n",
       "551723                                               None   \n",
       "614435                                               None   \n",
       "\n",
       "                    countries              countries_tags  \\\n",
       "94379   México,Estados Unidos  en:mexico,en:united-states   \n",
       "284807                 France                   en:france   \n",
       "453076                 France                   en:france   \n",
       "551723                 France                   en:france   \n",
       "614435                 France                   en:france   \n",
       "\n",
       "                countries_en  \\\n",
       "94379   Mexico,United States   \n",
       "284807                France   \n",
       "453076                France   \n",
       "551723                France   \n",
       "614435                France   \n",
       "\n",
       "                                         ingredients_text serving_size  \\\n",
       "94379   LECHE DE CABRA (57% ), GLUCOSA, AZUCAR, MALTIT...         30 g   \n",
       "284807  Farine de _blé_ - sucre - _oeufs_ frais 10,8% ...          35g   \n",
       "453076  Chocolat en poudre (sucre, cacao en poudre), a...          15g   \n",
       "551723  Whey protein concentrate (89,5%), Low-fat coco...         15 g   \n",
       "614435  Huile végétale : Brassica napus (Colza); Marin...         None   \n",
       "\n",
       "        serving_quantity  additives_n  \\\n",
       "94379               30.0          3.0   \n",
       "284807              35.0          4.0   \n",
       "453076              15.0          0.0   \n",
       "551723              15.0          2.0   \n",
       "614435               NaN          4.0   \n",
       "\n",
       "                                                additives  \\\n",
       "94379    [ leche-de-cabra -> es:leche-de-cabra  ]  [ 5...   \n",
       "284807   [ farine-de-ble -> fr:farine-de-ble  ]  [ far...   \n",
       "453076   [ chocolat-en-poudre -> fr:chocolat-en-poudre...   \n",
       "551723   [ whey-protein-concentrate -> fr:whey-protein...   \n",
       "614435   [ huile-vegetale -> fr:huile-vegetale  ]  [ h...   \n",
       "\n",
       "                                    additives_tags  \\\n",
       "94379   en:e202,en:e500,en:e500ii,en:e965,en:e965i   \n",
       "284807             en:e160,en:e300,en:e417,en:e481   \n",
       "453076                                        None   \n",
       "551723                             en:e950,en:e955   \n",
       "614435            en:e307,en:e307c,en:e422,en:e428   \n",
       "\n",
       "                                             additives_en  \\\n",
       "94379   E202 - Potassium sorbate,E500 - Sodium carbona...   \n",
       "284807  E160 - Carotene,E300 - Ascorbic acid,E417 - Ta...   \n",
       "453076                                               None   \n",
       "551723               E950 - Acesulfame k,E955 - Sucralose   \n",
       "614435  E307 - Alpha-tocopherol,E307c - Tocopherol,E42...   \n",
       "\n",
       "        ingredients_from_palm_oil_n  ingredients_that_may_be_from_palm_oil_n  \\\n",
       "94379                           0.0                                      0.0   \n",
       "284807                          0.0                                      1.0   \n",
       "453076                          0.0                                      0.0   \n",
       "551723                          0.0                                      0.0   \n",
       "614435                          0.0                                      1.0   \n",
       "\n",
       "       nutrition_grade_fr  nova_group            pnns_groups_1  \\\n",
       "94379                   e         4.0  Milk and dairy products   \n",
       "284807                  e         4.0            sugary-snacks   \n",
       "453076                  e         4.0                  unknown   \n",
       "551723                  e         4.0                  unknown   \n",
       "614435                  e         3.0                  unknown   \n",
       "\n",
       "         pnns_groups_2           main_category     main_category_en  \\\n",
       "94379   Dairy desserts              en:dairies              Dairies   \n",
       "284807        pastries               en:snacks               Snacks   \n",
       "453076         unknown            en:beverages            Beverages   \n",
       "551723         unknown  en:dietary-supplements  Dietary supplements   \n",
       "614435         unknown  en:dietary-supplements  Dietary supplements   \n",
       "\n",
       "        energy_100g   fat_100g  saturated-fat_100g  trans-fat_100g  \\\n",
       "94379        6320.0   8.330000                8.33             0.0   \n",
       "284807       4260.0  34.299999               10.60             NaN   \n",
       "453076        331.0   1.900000                1.20             NaN   \n",
       "551723       3570.0  21.299999               12.00             NaN   \n",
       "614435       3347.0  40.000000               15.00             NaN   \n",
       "\n",
       "        cholesterol_100g  carbohydrates_100g  sugars_100g  fiber_100g  \\\n",
       "94379                0.0           66.699997    46.700001         0.0   \n",
       "284807               NaN          154.000000    37.099998         NaN   \n",
       "453076               NaN            9.300000     9.300000         0.0   \n",
       "551723               NaN           56.000000    54.000000         0.0   \n",
       "614435               NaN           60.000000    55.000000         NaN   \n",
       "\n",
       "        proteins_100g  salt_100g  sodium_100g  vitamin-a_100g  vitamin-c_100g  \\\n",
       "94379        6.670000     296.00   117.000000             0.0             0.0   \n",
       "284807      21.700001       3.43     1.350000             NaN             NaN   \n",
       "453076       3.400000       0.14     0.055118             NaN             NaN   \n",
       "551723     110.000000       2.33     0.919000             NaN             NaN   \n",
       "614435       0.000000     100.00    39.370079             NaN             NaN   \n",
       "\n",
       "        calcium_100g  iron_100g  nutrition-score-fr_100g  \\\n",
       "94379           1.67        0.0                 3.636364   \n",
       "284807           NaN        NaN                 3.636364   \n",
       "453076           NaN        NaN                 3.636364   \n",
       "551723           NaN        NaN                 0.000000   \n",
       "614435           NaN        NaN                 1.818182   \n",
       "\n",
       "        nutrition-score-uk_100g  imputed_fat_100g  nutrition_grade_fr_encoded  \n",
       "94379                      38.0             False                         1.0  \n",
       "284807                     38.0             False                         1.0  \n",
       "453076                     38.0             False                         1.0  \n",
       "551723                     40.0             False                         1.0  \n",
       "614435                     39.0             False                         1.0  "
      ]
     },
     "execution_count": 18,
     "metadata": {},
     "output_type": "execute_result"
    }
   ],
   "source": [
    "# Selection of outliers (IQR method)\n",
    "outliers = select_outliers(data_cleaned,'nutrition-score-fr_100g')\n",
    "\n",
    "# Increase maximum number of columns to dispaly\n",
    "pd.set_option(\"display.max_columns\", 1000)\n",
    "\n",
    "outliers"
   ]
  },
  {
   "cell_type": "markdown",
   "metadata": {
    "Collapsed": "false"
   },
   "source": [
    "Nous obtenons quelques valeurs \"hors-normes\" (*ouliers*). Celles-ci correspondent à des valeurs très élevées de la variable \"score de nutrition\". Nous constatons que certaines des données pour ces lignes sont mal renseignées, et peuvent être la cause de leur score de nutrition anormalement élevé.\n",
    "\n",
    "Il est possible de vérifier les données à partir de la photo de la liste d'ingrédients pour éventuellement corriger."
   ]
  },
  {
   "cell_type": "markdown",
   "metadata": {
    "Collapsed": "false"
   },
   "source": [
    "# 2.B Variable 'nova_group' (variable catégorielle ordinale)"
   ]
  },
  {
   "cell_type": "code",
   "execution_count": 19,
   "metadata": {
    "Collapsed": "false"
   },
   "outputs": [
    {
     "name": "stdout",
     "output_type": "stream",
     "text": [
      "The filling rate of the column 'nova_group' is: 34.67%\n"
     ]
    },
    {
     "data": {
      "text/plain": [
       "0.346685039657501"
      ]
     },
     "execution_count": 19,
     "metadata": {},
     "output_type": "execute_result"
    }
   ],
   "source": [
    "dataframe = data_cleaned\n",
    "feature = 'nova_group'\n",
    "feature_filling_rate(dataframe, feature)"
   ]
  },
  {
   "cell_type": "code",
   "execution_count": 20,
   "metadata": {
    "Collapsed": "false"
   },
   "outputs": [],
   "source": [
    "# Converting to integer, allowing Nan values with \"I\"nt\n",
    "data_cleaned['nova_group'] = data_cleaned['nova_group'].astype('Int64', errors='ignore')\n",
    "\n",
    "# Converting the dtype as ordinal categorical feature\n",
    "from pandas.api.types import CategoricalDtype\n",
    "data_cleaned['nova_group'] = data_cleaned['nova_group'].astype(CategoricalDtype(ordered=True))"
   ]
  },
  {
   "cell_type": "code",
   "execution_count": 21,
   "metadata": {
    "Collapsed": "false"
   },
   "outputs": [
    {
     "data": {
      "text/plain": [
       "count     265931\n",
       "unique         4\n",
       "top            4\n",
       "freq      194411\n",
       "Name: nova_group, dtype: int64"
      ]
     },
     "execution_count": 21,
     "metadata": {},
     "output_type": "execute_result"
    }
   ],
   "source": [
    "data_cleaned['nova_group'].describe()"
   ]
  },
  {
   "cell_type": "code",
   "execution_count": 22,
   "metadata": {
    "Collapsed": "false"
   },
   "outputs": [],
   "source": [
    "def categorical_distribution(dataframe,feature):\n",
    "    \"\"\"Function plotting the bar-plot and pie-plot (as subplots) for \n",
    "    a distribution of categorical features.\"\"\"\n",
    "    \n",
    "    # importing libraries\n",
    "    import matplotlib.pyplot as plt\n",
    "\n",
    "    # filtering non-null data for the feature\n",
    "    mask = dataframe[feature].notnull()\n",
    "    data_view = dataframe[mask]\n",
    "    \n",
    "    # Setting the data to plot\n",
    "    x=data_view[feature]\n",
    "    \n",
    "    # Set frequencies and labels\n",
    "    labels = list(x.value_counts().sort_index().index.astype(str))\n",
    "    frequencies = x.value_counts().sort_index()\n",
    "    \n",
    "    # Graphical properties of the main figure\n",
    "    fig = plt.figure(figsize=(14, 6))\n",
    "    \n",
    "    plt.suptitle(\"Empiric statistical distribution: \" + feature, fontsize=25)\n",
    "    \n",
    "    # Main graphical properties of the first subplot (histogram)\n",
    "    ax1 = plt.subplot(121)\n",
    "    ax1.set_xlabel(\"Values\", fontsize=20)\n",
    "    ax1.set_ylabel(\"Frequencies\", fontsize=20)\n",
    "\n",
    "    # Main graphical properties of the second subplot (pieplot)\n",
    "    ax2 = plt.subplot(122)\n",
    "    ax2.set_xlabel(\"Relative frequencies\", fontsize=20)\n",
    "    \n",
    "    # plotting the plots\n",
    "    ax1.bar(labels, frequencies)\n",
    "    ax2.pie(frequencies,\n",
    "            autopct='%1.2f%%',\n",
    "            shadow=True,\n",
    "              )\n",
    "    \n",
    "    ax2.legend(labels)\n",
    "    plt.show()"
   ]
  },
  {
   "cell_type": "code",
   "execution_count": 23,
   "metadata": {
    "Collapsed": "false"
   },
   "outputs": [
    {
     "data": {
      "image/png": "[encoded data removed]",
      "text/plain": [
       "<Figure size 1008x432 with 2 Axes>"
      ]
     },
     "metadata": {
      "needs_background": "light"
     },
     "output_type": "display_data"
    }
   ],
   "source": [
    "dataframe = data_cleaned\n",
    "feature = 'nova_group'\n",
    "\n",
    "categorical_distribution(dataframe,feature)"
   ]
  },
  {
   "cell_type": "markdown",
   "metadata": {
    "Collapsed": "false"
   },
   "source": [
    "# 2.C Variable 'main_category' (variable catégorielle nominale)\n",
    "Plusieurs variables (colonnes) semblent correspondre à la notion de catégorie :\n",
    "* 'categories'\n",
    "* 'categories_tags'\n",
    "* 'categories_en'\n",
    "* 'main_category'\n",
    "* 'main_category_en'"
   ]
  },
  {
   "cell_type": "code",
   "execution_count": 24,
   "metadata": {
    "Collapsed": "false"
   },
   "outputs": [
    {
     "data": {
      "text/html": [
       "<div>\n",
       "<style scoped>\n",
       "    .dataframe tbody tr th:only-of-type {\n",
       "        vertical-align: middle;\n",
       "    }\n",
       "\n",
       "    .dataframe tbody tr th {\n",
       "        vertical-align: top;\n",
       "    }\n",
       "\n",
       "    .dataframe thead th {\n",
       "        text-align: right;\n",
       "    }\n",
       "</style>\n",
       "<table border=\"1\" class=\"dataframe\">\n",
       "  <thead>\n",
       "    <tr style=\"text-align: right;\">\n",
       "      <th></th>\n",
       "      <th>categories</th>\n",
       "      <th>categories_tags</th>\n",
       "      <th>categories_en</th>\n",
       "      <th>main_category</th>\n",
       "      <th>main_category_en</th>\n",
       "    </tr>\n",
       "  </thead>\n",
       "  <tbody>\n",
       "    <tr>\n",
       "      <th>count</th>\n",
       "      <td>266080</td>\n",
       "      <td>266079</td>\n",
       "      <td>266079</td>\n",
       "      <td>266024</td>\n",
       "      <td>266024</td>\n",
       "    </tr>\n",
       "    <tr>\n",
       "      <th>unique</th>\n",
       "      <td>55142</td>\n",
       "      <td>38144</td>\n",
       "      <td>38144</td>\n",
       "      <td>6087</td>\n",
       "      <td>6087</td>\n",
       "    </tr>\n",
       "    <tr>\n",
       "      <th>top</th>\n",
       "      <td>Boissons</td>\n",
       "      <td>en:beverages,en:non-alcoholic-beverages,en:uns...</td>\n",
       "      <td>Beverages,Non-Alcoholic beverages,Unsweetened ...</td>\n",
       "      <td>en:plant-based-foods-and-beverages</td>\n",
       "      <td>Plant-based foods and beverages</td>\n",
       "    </tr>\n",
       "    <tr>\n",
       "      <th>freq</th>\n",
       "      <td>4212</td>\n",
       "      <td>2786</td>\n",
       "      <td>2786</td>\n",
       "      <td>56682</td>\n",
       "      <td>56682</td>\n",
       "    </tr>\n",
       "  </tbody>\n",
       "</table>\n",
       "</div>"
      ],
      "text/plain": [
       "       categories                                    categories_tags  \\\n",
       "count      266080                                             266079   \n",
       "unique      55142                                              38144   \n",
       "top      Boissons  en:beverages,en:non-alcoholic-beverages,en:uns...   \n",
       "freq         4212                                               2786   \n",
       "\n",
       "                                            categories_en  \\\n",
       "count                                              266079   \n",
       "unique                                              38144   \n",
       "top     Beverages,Non-Alcoholic beverages,Unsweetened ...   \n",
       "freq                                                 2786   \n",
       "\n",
       "                             main_category                 main_category_en  \n",
       "count                               266024                           266024  \n",
       "unique                                6087                             6087  \n",
       "top     en:plant-based-foods-and-beverages  Plant-based foods and beverages  \n",
       "freq                                 56682                            56682  "
      ]
     },
     "execution_count": 24,
     "metadata": {},
     "output_type": "execute_result"
    }
   ],
   "source": [
    "dataframe[[\n",
    "    'categories',\n",
    "    'categories_tags',\n",
    "    'categories_en',\n",
    "    'main_category',\n",
    "    'main_category_en',\n",
    "    ]].describe()"
   ]
  },
  {
   "cell_type": "markdown",
   "metadata": {
    "Collapsed": "false"
   },
   "source": [
    "Nous constatons que certaines colonnes, bien que comportant des noms différents, semblent encoder la même information :\n",
    "* 'categories_tags' et 'categories_en'\n",
    "* 'main_category', 'main_category_en' et 'main_category'"
   ]
  },
  {
   "cell_type": "code",
   "execution_count": 25,
   "metadata": {
    "Collapsed": "false"
   },
   "outputs": [
    {
     "data": {
      "text/plain": [
       "count       266080\n",
       "unique       55142\n",
       "top       Boissons\n",
       "freq          4212\n",
       "Name: categories, dtype: object"
      ]
     },
     "execution_count": 25,
     "metadata": {},
     "output_type": "execute_result"
    }
   ],
   "source": [
    "data_cleaned[\"categories\"].describe()"
   ]
  },
  {
   "cell_type": "markdown",
   "metadata": {
    "Collapsed": "false"
   },
   "source": [
    "# Partie 3 - Analyses bivariées\n",
    "**NB :** par \"analyse bivariée\", nous entendons une étude détaillée des interactions entre deux variables.\n",
    "\n",
    "L'étude globale des corrélations entre variables sera traitée dans la partie 4 : analyses multivariées."
   ]
  },
  {
   "cell_type": "markdown",
   "metadata": {
    "Collapsed": "false"
   },
   "source": [
    "## 3.1 Analyse bivariée : 'nutrition_grade_fr' vs 'nutrition-score-fr_100g'\n",
    "nutrition_grade_fr : nutrition grade ('a' to 'e'). see http://fr.openfoodfacts.org/score-nutritionnel-experimental-france"
   ]
  },
  {
   "cell_type": "code",
   "execution_count": 26,
   "metadata": {
    "Collapsed": "false"
   },
   "outputs": [
    {
     "name": "stdout",
     "output_type": "stream",
     "text": [
      "The filling rate of the column 'nutrition_grade_fr' is: 27.38%\n"
     ]
    },
    {
     "data": {
      "text/plain": [
       "0.273802322610251"
      ]
     },
     "execution_count": 26,
     "metadata": {},
     "output_type": "execute_result"
    }
   ],
   "source": [
    "dataframe = data_cleaned\n",
    "feature = 'nutrition_grade_fr'\n",
    "feature_filling_rate(dataframe, feature)"
   ]
  },
  {
   "cell_type": "markdown",
   "metadata": {
    "Collapsed": "false"
   },
   "source": [
    "Nous constatons que le taux de remplissage de 'nutrition_grade_fr' est exactement le même que celui de 'nutrition-score-fr_100g' avant imputation. Nous supposons que la variable catégorielle 'nutrition_grade_fr' correspond à un encodage de la variable quantitative 'nutrition-score-fr_100g'."
   ]
  },
  {
   "cell_type": "code",
   "execution_count": 27,
   "metadata": {
    "Collapsed": "false"
   },
   "outputs": [
    {
     "data": {
      "text/plain": [
       "Int64Index([], dtype='int64')"
      ]
     },
     "execution_count": 27,
     "metadata": {},
     "output_type": "execute_result"
    }
   ],
   "source": [
    "mask1 = data_cleaned['nutrition_grade_fr'].notnull()\n",
    "idx1 = data_cleaned[mask1].index\n",
    "\n",
    "mask2 = data_cleaned['nutrition-score-fr_100g'].notnull()\n",
    "idx2 = data_cleaned[mask2].index\n",
    "\n",
    "idx1 ^ idx2"
   ]
  },
  {
   "cell_type": "markdown",
   "metadata": {
    "Collapsed": "false"
   },
   "source": [
    "Cette hypothèse semble confirmée par le fait que la \"différence symétrique\" des ensembles ayant respectivement la colonne 'nutrition_grade_fr' ou la colonne 'nutrition-score-fr_100g' complétée est nulle."
   ]
  },
  {
   "cell_type": "code",
   "execution_count": 28,
   "metadata": {
    "Collapsed": "false"
   },
   "outputs": [],
   "source": [
    "def modal_boxplots(dataframe, modal_feature, numerical_feature):\n",
    "    '''This function return a plot of boxplots for each modality.\n",
    "    Useful for bivariate analysis.'''\n",
    "    \n",
    "    # Creating a copy of the two features\n",
    "    data_sample = dataframe[[modal_feature, numerical_feature]].copy()\n",
    "\n",
    "    # Drop the rows where values are missing for the two features\n",
    "    data_sample = data_sample.dropna(subset=[modal_feature, numerical_feature])\n",
    "\n",
    "    # Getting the list of modalities\n",
    "    modalities = data_sample[modal_feature].sort_values().unique()\n",
    "    groups = []\n",
    "\n",
    "    # Iteration on each modality\n",
    "    for modality in modalities:\n",
    "        # Keep only the numerical_feature for the rows (kind of a groupby)\n",
    "        groups.append(data_sample[data_sample[modal_feature]==modality][numerical_feature])\n",
    "\n",
    "    # Graphical properties   \n",
    "    medianprops = {'color':\"black\"}\n",
    "    meanprops = {'marker':'o', 'markeredgecolor':'black',\n",
    "                'markerfacecolor':'firebrick'}\n",
    "\n",
    "    # Properties of the box-plot\n",
    "    fig = plt.figure(figsize=(15, 6))\n",
    "    plt.title(modal_feature + \" vs \" + numerical_feature, fontsize=20)\n",
    "    plt.xlabel(\"Values of \" + modal_feature, fontsize=15)\n",
    "    plt.ylabel(\"Values of \" + numerical_feature, fontsize=15)\n",
    "\n",
    "    # Plotting the box-plot\n",
    "    plt.boxplot(groups, labels=modalities, showfliers=False, medianprops=medianprops, \n",
    "                vert=True, patch_artist=True, showmeans=True, meanprops=meanprops)\n",
    "    plt.show()"
   ]
  },
  {
   "cell_type": "code",
   "execution_count": 29,
   "metadata": {
    "Collapsed": "false"
   },
   "outputs": [
    {
     "data": {
      "image/png": "[encoded data removed]",
      "text/plain": [
       "<Figure size 1080x432 with 1 Axes>"
      ]
     },
     "metadata": {
      "needs_background": "light"
     },
     "output_type": "display_data"
    }
   ],
   "source": [
    "dataframe = data_cleaned\n",
    "modal_feature = 'nutrition_grade_fr'\n",
    "numerical_feature = 'nutrition-score-fr_100g'\n",
    "\n",
    "modal_boxplots(dataframe, modal_feature, numerical_feature)"
   ]
  },
  {
   "cell_type": "markdown",
   "metadata": {
    "Collapsed": "false"
   },
   "source": [
    "Nous pouvons constater qu'il y a quelques anomalies dans l'encodage du Nutri-Score.\n",
    "\n",
    "Théoriquement, les diagrammes en boîtes devraient être disjoints."
   ]
  },
  {
   "cell_type": "markdown",
   "metadata": {
    "Collapsed": "false"
   },
   "source": [
    "## 3.2 Analyse bivariée : 'nova_score' vs 'nutrition-score-fr_100g'"
   ]
  },
  {
   "cell_type": "code",
   "execution_count": 30,
   "metadata": {
    "Collapsed": "false"
   },
   "outputs": [
    {
     "data": {
      "image/png": "[encoded data removed]",
      "text/plain": [
       "<Figure size 1080x432 with 1 Axes>"
      ]
     },
     "metadata": {
      "needs_background": "light"
     },
     "output_type": "display_data"
    }
   ],
   "source": [
    "dataframe = data_cleaned\n",
    "modal_feature = 'nova_group'\n",
    "numerical_feature = 'nutrition-score-fr_100g'\n",
    "\n",
    "modal_boxplots(dataframe, modal_feature, numerical_feature)"
   ]
  },
  {
   "cell_type": "markdown",
   "metadata": {
    "Collapsed": "false"
   },
   "source": [
    "### Calcul du coefficient de corrélation linéaire (Pearson)"
   ]
  },
  {
   "cell_type": "code",
   "execution_count": 31,
   "metadata": {
    "Collapsed": "false"
   },
   "outputs": [
    {
     "name": "stdout",
     "output_type": "stream",
     "text": [
      "The Pearson linear correlation coefficient is: r = -0.28194140755642094\n"
     ]
    }
   ],
   "source": [
    "s1 = data_cleaned['nova_group']\n",
    "s2 = data_cleaned['nutrition-score-fr_100g']\n",
    "\n",
    "print(\"The Pearson linear correlation coefficient is: r = {}\".format(s1.corr(s2, method='pearson')))"
   ]
  },
  {
   "cell_type": "markdown",
   "metadata": {
    "Collapsed": "false"
   },
   "source": [
    "Nous obtenons un coefficient indiquant une corrélation négative faible entre les deux variables. Pour savoir si cette corrélation est néanmoins significative, nous allons procéder à un test statistique d'indépendance."
   ]
  },
  {
   "cell_type": "markdown",
   "metadata": {
    "Collapsed": "false"
   },
   "source": [
    "### Test d'indépendance du Khi-2\n",
    "\n",
    "    H0 : les deux variables 'nova_group' et 'nutrition-score-fr_100g' sont indépendantes\n",
    "\n",
    "    H1 : les deux variables ne sont pas indépendantes"
   ]
  },
  {
   "cell_type": "code",
   "execution_count": 32,
   "metadata": {
    "Collapsed": "false"
   },
   "outputs": [
    {
     "name": "stdout",
     "output_type": "stream",
     "text": [
      "χ2 = 158615.40694581528\n",
      "p-value = 0.0\n",
      "degrees of freedom = 224\n"
     ]
    }
   ],
   "source": [
    "# Constructing the Contingency Table\n",
    "f_obs = pd.crosstab(data_cleaned['nova_group'], data_cleaned['nutrition-score-fr_100g'],margins=True)\n",
    "\n",
    "# The Chi-Squared test for independence\n",
    "from scipy import stats\n",
    "results = stats.chi2_contingency(f_obs)\n",
    "print(\"χ2 = {}\\np-value = {}\\ndegrees of freedom = {}\".format(results[0], results[1], results[2]))"
   ]
  },
  {
   "cell_type": "markdown",
   "metadata": {
    "Collapsed": "false"
   },
   "source": [
    "Comme la p-valeur est proche de zéro, nous pouvons rejeter l'hypothèse H0 d'indépendance avec un risque négligeable de nous tromper.\n",
    "\n",
    "Nous en concluons que les variables 'nova_group' et 'nutrition-score-fr_100g' sont donc dépendantes."
   ]
  },
  {
   "cell_type": "markdown",
   "metadata": {
    "Collapsed": "false"
   },
   "source": [
    "## 3.3 Analyse bivariée : 'additives_n' vs 'nutrition-score-fr_100g'"
   ]
  },
  {
   "cell_type": "markdown",
   "metadata": {
    "Collapsed": "false"
   },
   "source": [
    "### Nuage de points"
   ]
  },
  {
   "cell_type": "code",
   "execution_count": 33,
   "metadata": {
    "Collapsed": "false"
   },
   "outputs": [],
   "source": [
    "dataframe = data_cleaned[['additives_n', 'nutrition-score-fr_100g']].dropna()"
   ]
  },
  {
   "cell_type": "code",
   "execution_count": 34,
   "metadata": {
    "Collapsed": "false"
   },
   "outputs": [
    {
     "data": {
      "text/plain": [
       "<matplotlib.collections.PathCollection at 0x1cc30cc4080>"
      ]
     },
     "execution_count": 34,
     "metadata": {},
     "output_type": "execute_result"
    },
    {
     "data": {
      "image/png": "[encoded data removed]",
      "text/plain": [
       "<Figure size 432x288 with 1 Axes>"
      ]
     },
     "metadata": {
      "needs_background": "light"
     },
     "output_type": "display_data"
    }
   ],
   "source": [
    "x = dataframe['additives_n']\n",
    "y = dataframe['nutrition-score-fr_100g']\n",
    "\n",
    "plt.xlabel(\"Values of 'additives_n'\", fontsize=15)\n",
    "plt.ylabel(\"Values of 'nutrition-score-fr_100g'\", fontsize=15)\n",
    "\n",
    "plt.scatter(x, y)"
   ]
  },
  {
   "cell_type": "markdown",
   "metadata": {
    "Collapsed": "false"
   },
   "source": [
    "### Calcul du coefficient de corrélation linéaire (Pearson)"
   ]
  },
  {
   "cell_type": "code",
   "execution_count": 35,
   "metadata": {
    "Collapsed": "false"
   },
   "outputs": [
    {
     "name": "stdout",
     "output_type": "stream",
     "text": [
      "The Pearson linear correlation coefficient is: r = -0.1800573496677353\n"
     ]
    }
   ],
   "source": [
    "s1 = data_cleaned['additives_n']\n",
    "s2 = data_cleaned['nutrition-score-fr_100g']\n",
    "\n",
    "print(\"The Pearson linear correlation coefficient is: r = {}\".format(s1.corr(s2, method='pearson')))"
   ]
  },
  {
   "cell_type": "markdown",
   "metadata": {
    "Collapsed": "false"
   },
   "source": [
    "Nous obtenons un coefficient indiquant une corrélation négative très faible entre les deux variables."
   ]
  },
  {
   "cell_type": "markdown",
   "metadata": {
    "Collapsed": "false"
   },
   "source": [
    "# Partie 4 - Analyses multivariées"
   ]
  },
  {
   "cell_type": "markdown",
   "metadata": {
    "Collapsed": "false"
   },
   "source": [
    "## 4.1 Corrélations bivariées avec pairplot de seaborn"
   ]
  },
  {
   "cell_type": "markdown",
   "metadata": {
    "Collapsed": "false"
   },
   "source": [
    "### Échantillonnage\n",
    "Pour éviter les erreurs d'insuffisance mémoire, nous échantillonnons le jeu de données."
   ]
  },
  {
   "cell_type": "code",
   "execution_count": 36,
   "metadata": {
    "Collapsed": "false"
   },
   "outputs": [],
   "source": [
    "# Sampling (1 out of 1'000)\n",
    "data_sample = data_cleaned.sample(frac=0.001)"
   ]
  },
  {
   "cell_type": "code",
   "execution_count": 37,
   "metadata": {
    "Collapsed": "false"
   },
   "outputs": [
    {
     "name": "stderr",
     "output_type": "stream",
     "text": [
      "C:\\Users\\Lebrun\\Anaconda3\\envs\\DS_projet3\\lib\\site-packages\\statsmodels\\nonparametric\\kde.py:448: RuntimeWarning: invalid value encountered in greater\n",
      "  X = X[np.logical_and(X > clip[0], X < clip[1])] # won't work for two columns.\n",
      "C:\\Users\\Lebrun\\Anaconda3\\envs\\DS_projet3\\lib\\site-packages\\statsmodels\\nonparametric\\kde.py:448: RuntimeWarning: invalid value encountered in less\n",
      "  X = X[np.logical_and(X > clip[0], X < clip[1])] # won't work for two columns.\n"
     ]
    },
    {
     "data": {
      "text/plain": [
       "<seaborn.axisgrid.PairGrid at 0x1cc30c95978>"
      ]
     },
     "execution_count": 37,
     "metadata": {},
     "output_type": "execute_result"
    },
    {
     "data": {
      "image/png": "[encoded data removed]",
      "text/plain": [
       "<Figure size 628.55x540 with 12 Axes>"
      ]
     },
     "metadata": {
      "needs_background": "light"
     },
     "output_type": "display_data"
    }
   ],
   "source": [
    "# Selecting some features for plotting\n",
    "features = ['nutrition-score-fr_100g', 'saturated-fat_100g', 'nova_group', 'nutrition_grade_fr']\n",
    "data_sample = data_sample[features]\n",
    "\n",
    "# Selecting numeric features only\n",
    "# data_sample = data_sample.select_dtypes(include='number')\n",
    "\n",
    "# Plotting pairwise relationships in the dataset (numeric features)\n",
    "sns.pairplot(data_sample, hue='nutrition_grade_fr')"
   ]
  },
  {
   "cell_type": "markdown",
   "metadata": {
    "Collapsed": "false"
   },
   "source": [
    "## 4.2 Matrice de corrélation pour les variables quantitatives"
   ]
  },
  {
   "cell_type": "code",
   "execution_count": 38,
   "metadata": {
    "Collapsed": "false"
   },
   "outputs": [],
   "source": [
    "def correlation_matrix(dataframe):\n",
    "    \"\"\"This function plots a correlation matrix using the seaborn package.\"\"\"\n",
    "\n",
    "    import numpy as np\n",
    "    import pandas as pd\n",
    "    import seaborn as sns\n",
    "    import matplotlib.pyplot as plt\n",
    "\n",
    "    sns.set(style=\"white\")\n",
    "\n",
    "    # Compute the correlation matrix\n",
    "    corr = dataframe.corr()\n",
    "\n",
    "    # Generate a mask for the upper triangle\n",
    "    mask = np.zeros_like(corr, dtype=np.bool)\n",
    "    mask[np.triu_indices_from(mask)] = True\n",
    "\n",
    "    # Set up the matplotlib figure\n",
    "    f, ax = plt.subplots(figsize=(11, 9))\n",
    "    plt.title(\"Correlation matrix\", fontsize=25)\n",
    "\n",
    "    # Generate a custom diverging colormap\n",
    "    cmap = sns.diverging_palette(220, 10, as_cmap=True)\n",
    "\n",
    "    # Draw the heatmap with the mask and correct aspect ratio\n",
    "    sns.heatmap(corr, mask=mask, cmap=cmap, vmax=.3, center=0,\n",
    "                square=True, linewidths=.5, cbar_kws={\"shrink\": .5})"
   ]
  },
  {
   "cell_type": "code",
   "execution_count": 39,
   "metadata": {
    "Collapsed": "false"
   },
   "outputs": [
    {
     "data": {
      "image/png": "[encoded data removed]",
      "text/plain": [
       "<Figure size 792x648 with 2 Axes>"
      ]
     },
     "metadata": {},
     "output_type": "display_data"
    }
   ],
   "source": [
    "# filtering features to avoid to crunch the representation\n",
    "dataframe = data_cleaned.drop(columns=['nutrition_grade_fr_encoded', 'nutrition-score-uk_100g'])\n",
    "\n",
    "correlation_matrix(dataframe)"
   ]
  },
  {
   "cell_type": "markdown",
   "metadata": {
    "Collapsed": "false"
   },
   "source": [
    "## 4.3 Vecteur de corrélation pour la variable 'nutrition-score-fr_100g'\n",
    "Comme nous nous intéresssons spécifiquement aux corrélations de la variable de 'nutrition-score-fr_100g', nous allons projeter la matrice de corrélations sur cette seule variable afin d'obtenir un \"vecteur de corrélation\"."
   ]
  },
  {
   "cell_type": "code",
   "execution_count": 40,
   "metadata": {
    "Collapsed": "false"
   },
   "outputs": [],
   "source": [
    "def correlation_vector(dataframe, feature):\n",
    "    \"\"\"This functions plots a correlation vector for a single feature.\"\"\"\n",
    "\n",
    "    # Load libraries\n",
    "    import numpy as np\n",
    "    import pandas as pd\n",
    "    import seaborn as sns\n",
    "    import matplotlib.pyplot as plt\n",
    "\n",
    "    sns.set(style=\"white\")\n",
    "\n",
    "    # Compute the correlation matrix\n",
    "    corr_matrix = dataframe.corr()\n",
    "\n",
    "    # Keep only vector related to feature (pd.Series)\n",
    "    corr_vector = corr_matrix[feature]\n",
    "    \n",
    "    # Remove the self-correlation case\n",
    "    corr_vector = corr_vector.drop(feature)\n",
    "    \n",
    "    # Sort the pd.Series by descending order\n",
    "    corr_vector = corr_vector.sort_values(ascending=False)\n",
    "\n",
    "    # Convert the pd.Series to pd.DataFrame to fit requirements for sns.heatmap\n",
    "    corr_vector = pd.DataFrame(corr_vector)\n",
    "\n",
    "    # Set up the matplotlib figure\n",
    "    f, ax = plt.subplots(figsize=(3, 10))\n",
    "    plt.title(\"Correlation vector\\n\" + feature + \"\\n\", fontsize=25)\n",
    "\n",
    "    # Generate a custom diverging colormap\n",
    "    cmap = sns.diverging_palette(220, 10, as_cmap=True)\n",
    "\n",
    "    # Draw the heatmap with the mask and correct aspect ratio\n",
    "    sns.heatmap(corr_vector, cmap=cmap, vmax=.3, center=0,\n",
    "                square=False, linewidths=0.5, cbar_kws={\"shrink\": .5}, annot=True, fmt='1.3f', cbar=False)"
   ]
  },
  {
   "cell_type": "code",
   "execution_count": 41,
   "metadata": {
    "Collapsed": "false"
   },
   "outputs": [
    {
     "data": {
      "image/png": "[encoded data removed]",
      "text/plain": [
       "<Figure size 216x720 with 1 Axes>"
      ]
     },
     "metadata": {},
     "output_type": "display_data"
    }
   ],
   "source": [
    "# filtering features to avoid to crunch the representation\n",
    "dataframe = data_cleaned.drop(columns=['nutrition_grade_fr_encoded', 'nutrition-score-uk_100g'])\n",
    "feature = 'nutrition-score-fr_100g'\n",
    "correlation_vector(dataframe, feature)"
   ]
  },
  {
   "cell_type": "markdown",
   "metadata": {
    "Collapsed": "false"
   },
   "source": [
    "En analysant ce vecteur de corrélation, nous pouvons constater que le score de nutrition rééchelonné ('nutrition-score-fr_100g') est positivement corrélé à :\n",
    "* la présence de fer\n",
    "* la présence de fibres\n",
    "* la taille de la portion\n",
    "* la présenec de vitamines A et C\n",
    "\n",
    "Et négativement corrélé avec :\n",
    "* la présence de graisses saturées\n",
    "* la présence d'huile de palme\n",
    "* la présence d'additifs\n",
    "* la présence de sucres\n",
    "* le niveau de transformation du produit ('nova_group')\n",
    "\n",
    "Cela est cohérent avec le fait qu'un aliment est d'autant meilleur pour la santé que son score de nutrition est bas."
   ]
  },
  {
   "cell_type": "markdown",
   "metadata": {
    "Collapsed": "false"
   },
   "source": [
    "## 4.4 Correlations intégrant les variables catégorielles (dython)\n",
    "La librairie dython (http://shakedzy.xyz/dython/) permet de calculer :\n",
    "* pour les couples de variables quantitatives :\n",
    "    * le coefficient de correlation de Pearson R \n",
    "    \n",
    "    \n",
    "* pour les couples de variables catégorielles :\n",
    "    * le coefficient de Cramer V (symetrique)\n",
    "    * le coefficient d'incertitude de Theil U (asymetrique)\n",
    "    \n",
    "    \n",
    "* pour les couples de variables mixtes (quantitative + catégorielle) :\n",
    "    * le ratio de correlation η (eta)"
   ]
  },
  {
   "cell_type": "code",
   "execution_count": 42,
   "metadata": {
    "Collapsed": "false"
   },
   "outputs": [
    {
     "data": {
      "image/png": "[encoded data removed]",
      "text/plain": [
       "<Figure size 1080x360 with 2 Axes>"
      ]
     },
     "metadata": {},
     "output_type": "display_data"
    }
   ],
   "source": [
    "from dython.nominal import associations\n",
    "\n",
    "nominal_columns = ['nova_group', 'nutrition_grade_fr', 'main_category']\n",
    "\n",
    "# Have to drop NaN values to avoid errors\n",
    "df_for_correlations = data_cleaned[['nova_group', 'nutrition_grade_fr', 'main_category', 'nutrition-score-fr_100g']].dropna()\n",
    "\n",
    "# Calculate associations and display graph\n",
    "associations(\n",
    "    df_for_correlations,\n",
    "    figsize=(15,5),\n",
    "    theil_u=True, # asymetric measure of correlation for nominal feature\n",
    "    nominal_columns=nominal_columns\n",
    ")"
   ]
  },
  {
   "cell_type": "markdown",
   "metadata": {
    "Collapsed": "false"
   },
   "source": [
    "Nous constatons que la variable 'nutrition-score-fr_100g' est très corrélée aux variables :\n",
    "* 'nutrition_grade_fr' (ce qui était prévisiable, puisque ce n'est qu'un encodage \"binning\")\n",
    "* 'main_category'"
   ]
  },
  {
   "cell_type": "markdown",
   "metadata": {
    "Collapsed": "false"
   },
   "source": [
    "# Imputation des scores de nutrition manquant\n",
    "Pour faire une imputation des scores de nutrition (variable 'nutrition-score-fr_100g'), nous pourrions faire un entraîner un modèle de ML. Néanmoins, pour faire simple, et en raison du grand nombre de données manquantes, nous allons procéder à une imputation par la moyenne du sous-groupe.\n",
    "\n",
    "Nous allons définir une fonction dont l'objectif est d'imputer les valeurs manquantes en utilisant les valeurs d'autres lignes partageant certaines propriétés (nom de produit, catégorie de produit...)."
   ]
  },
  {
   "cell_type": "code",
   "execution_count": 43,
   "metadata": {
    "Collapsed": "false"
   },
   "outputs": [],
   "source": [
    "def imputation(dataframe, feature, keys):\n",
    "    \"\"\"This function impute substitute values for missing values for a specific column (feature),\n",
    "    based on other rows sharing some properties (values on other fields of subset).\n",
    "    Also add a new feature to inform if the value was imputed.\n",
    "    Does only handle numeric features yet.\"\"\"\n",
    "    \n",
    "    # Identify NaN values pre-imputation\n",
    "    mask_before = dataframe[feature].isnull()\n",
    "    \n",
    "    # Copying the dataframe to avoid manipulating a slice\n",
    "    result = dataframe.copy()\n",
    "    \n",
    "    # Initialize column for imputed values if doesn't exist\n",
    "    if \"imputed_\" + feature not in result.columns:\n",
    "        result[\"imputed_\" + feature] = False\n",
    "    \n",
    "    # Iterating on each feature in the subset\n",
    "    for column in keys:\n",
    "        \n",
    "        # Grouping the DataFrame on the column's value, sort=False to speed-up\n",
    "        grouped = dataframe.groupby(column, sort=False)\n",
    "        \n",
    "        # Computing the mean of feature for each group\n",
    "        means_of_group = grouped[feature].transform('mean') # to adapt for object and categorical dtypes features\n",
    "        \n",
    "        # Filling missing values with the mean of each group\n",
    "        result[feature].fillna(value=means_of_group, axis=0, inplace=True)\n",
    "    \n",
    "    # Identify NaN values post-imputation\n",
    "    mask_after = result[feature].isnull()\n",
    "    \n",
    "    # Values imputed : boolean symetric difference\n",
    "    mask_imputed = mask_after ^ mask_before\n",
    "    \n",
    "    # Update the column to inform that the feature was imputed\n",
    "    result[\"imputed_\" + feature][mask_imputed] = True # raise a SettingWithCopyWarning\n",
    "    \n",
    "    return result"
   ]
  },
  {
   "cell_type": "markdown",
   "metadata": {
    "Collapsed": "false"
   },
   "source": [
    "Nous calculons le taux de remplissage de la colonne 'nutrition-score-fr_100g' avant l'imputation."
   ]
  },
  {
   "cell_type": "code",
   "execution_count": 44,
   "metadata": {
    "Collapsed": "false"
   },
   "outputs": [
    {
     "name": "stdout",
     "output_type": "stream",
     "text": [
      "The filling rate of the column 'nutrition-score-fr_100g' is: 27.38%\n"
     ]
    },
    {
     "data": {
      "text/plain": [
       "0.273802322610251"
      ]
     },
     "execution_count": 44,
     "metadata": {},
     "output_type": "execute_result"
    }
   ],
   "source": [
    "dataframe = data_cleaned\n",
    "feature = 'nutrition-score-fr_100g'\n",
    "feature_filling_rate(dataframe, feature)"
   ]
  },
  {
   "cell_type": "code",
   "execution_count": 45,
   "metadata": {
    "Collapsed": "false"
   },
   "outputs": [
    {
     "name": "stderr",
     "output_type": "stream",
     "text": [
      "C:\\Users\\Lebrun\\Anaconda3\\envs\\DS_projet3\\lib\\site-packages\\ipykernel_launcher.py:36: SettingWithCopyWarning: \n",
      "A value is trying to be set on a copy of a slice from a DataFrame\n",
      "\n",
      "See the caveats in the documentation: http://pandas.pydata.org/pandas-docs/stable/indexing.html#indexing-view-versus-copy\n"
     ]
    }
   ],
   "source": [
    "# Ordered list of the keys used to impute the feature\n",
    "keys = [\n",
    "    'product_name',\n",
    "    'categories',\n",
    "    'main_category'\n",
    "]\n",
    "\n",
    "data_cleaned = imputation(dataframe, feature, keys)"
   ]
  },
  {
   "cell_type": "code",
   "execution_count": 46,
   "metadata": {
    "Collapsed": "false"
   },
   "outputs": [
    {
     "data": {
      "text/html": [
       "<div>\n",
       "<style scoped>\n",
       "    .dataframe tbody tr th:only-of-type {\n",
       "        vertical-align: middle;\n",
       "    }\n",
       "\n",
       "    .dataframe tbody tr th {\n",
       "        vertical-align: top;\n",
       "    }\n",
       "\n",
       "    .dataframe thead th {\n",
       "        text-align: right;\n",
       "    }\n",
       "</style>\n",
       "<table border=\"1\" class=\"dataframe\">\n",
       "  <thead>\n",
       "    <tr style=\"text-align: right;\">\n",
       "      <th></th>\n",
       "      <th>code</th>\n",
       "      <th>product_name</th>\n",
       "      <th>generic_name</th>\n",
       "      <th>quantity</th>\n",
       "      <th>packaging</th>\n",
       "      <th>packaging_tags</th>\n",
       "      <th>brands</th>\n",
       "      <th>brands_tags</th>\n",
       "      <th>categories</th>\n",
       "      <th>categories_tags</th>\n",
       "      <th>categories_en</th>\n",
       "      <th>labels</th>\n",
       "      <th>labels_tags</th>\n",
       "      <th>labels_en</th>\n",
       "      <th>purchase_places</th>\n",
       "      <th>stores</th>\n",
       "      <th>countries</th>\n",
       "      <th>countries_tags</th>\n",
       "      <th>countries_en</th>\n",
       "      <th>ingredients_text</th>\n",
       "      <th>serving_size</th>\n",
       "      <th>serving_quantity</th>\n",
       "      <th>additives_n</th>\n",
       "      <th>additives</th>\n",
       "      <th>additives_tags</th>\n",
       "      <th>additives_en</th>\n",
       "      <th>ingredients_from_palm_oil_n</th>\n",
       "      <th>ingredients_that_may_be_from_palm_oil_n</th>\n",
       "      <th>nutrition_grade_fr</th>\n",
       "      <th>nova_group</th>\n",
       "      <th>pnns_groups_1</th>\n",
       "      <th>pnns_groups_2</th>\n",
       "      <th>main_category</th>\n",
       "      <th>main_category_en</th>\n",
       "      <th>energy_100g</th>\n",
       "      <th>fat_100g</th>\n",
       "      <th>saturated-fat_100g</th>\n",
       "      <th>trans-fat_100g</th>\n",
       "      <th>cholesterol_100g</th>\n",
       "      <th>carbohydrates_100g</th>\n",
       "      <th>sugars_100g</th>\n",
       "      <th>fiber_100g</th>\n",
       "      <th>proteins_100g</th>\n",
       "      <th>salt_100g</th>\n",
       "      <th>sodium_100g</th>\n",
       "      <th>vitamin-a_100g</th>\n",
       "      <th>vitamin-c_100g</th>\n",
       "      <th>calcium_100g</th>\n",
       "      <th>iron_100g</th>\n",
       "      <th>nutrition-score-fr_100g</th>\n",
       "      <th>nutrition-score-uk_100g</th>\n",
       "      <th>imputed_fat_100g</th>\n",
       "      <th>nutrition_grade_fr_encoded</th>\n",
       "      <th>imputed_nutrition-score-fr_100g</th>\n",
       "    </tr>\n",
       "  </thead>\n",
       "  <tbody>\n",
       "    <tr>\n",
       "      <th>0</th>\n",
       "      <td>0000000000017</td>\n",
       "      <td>Vitória crackers</td>\n",
       "      <td>None</td>\n",
       "      <td>None</td>\n",
       "      <td>None</td>\n",
       "      <td>None</td>\n",
       "      <td>None</td>\n",
       "      <td>None</td>\n",
       "      <td>None</td>\n",
       "      <td>None</td>\n",
       "      <td>None</td>\n",
       "      <td>None</td>\n",
       "      <td>None</td>\n",
       "      <td>None</td>\n",
       "      <td>None</td>\n",
       "      <td>None</td>\n",
       "      <td>France</td>\n",
       "      <td>en:france</td>\n",
       "      <td>France</td>\n",
       "      <td>None</td>\n",
       "      <td>None</td>\n",
       "      <td>NaN</td>\n",
       "      <td>NaN</td>\n",
       "      <td>None</td>\n",
       "      <td>None</td>\n",
       "      <td>None</td>\n",
       "      <td>NaN</td>\n",
       "      <td>NaN</td>\n",
       "      <td>None</td>\n",
       "      <td>NaN</td>\n",
       "      <td>unknown</td>\n",
       "      <td>unknown</td>\n",
       "      <td>None</td>\n",
       "      <td>None</td>\n",
       "      <td>1569.0</td>\n",
       "      <td>7.000000</td>\n",
       "      <td>3.08</td>\n",
       "      <td>NaN</td>\n",
       "      <td>NaN</td>\n",
       "      <td>70.099998</td>\n",
       "      <td>15.0</td>\n",
       "      <td>NaN</td>\n",
       "      <td>7.8</td>\n",
       "      <td>1.40000</td>\n",
       "      <td>0.551181</td>\n",
       "      <td>NaN</td>\n",
       "      <td>NaN</td>\n",
       "      <td>NaN</td>\n",
       "      <td>NaN</td>\n",
       "      <td>NaN</td>\n",
       "      <td>NaN</td>\n",
       "      <td>False</td>\n",
       "      <td>NaN</td>\n",
       "      <td>False</td>\n",
       "    </tr>\n",
       "    <tr>\n",
       "      <th>1</th>\n",
       "      <td>0000000000031</td>\n",
       "      <td>Cacao</td>\n",
       "      <td>None</td>\n",
       "      <td>130 g</td>\n",
       "      <td>None</td>\n",
       "      <td>None</td>\n",
       "      <td>None</td>\n",
       "      <td>None</td>\n",
       "      <td>None</td>\n",
       "      <td>None</td>\n",
       "      <td>None</td>\n",
       "      <td>None</td>\n",
       "      <td>None</td>\n",
       "      <td>None</td>\n",
       "      <td>None</td>\n",
       "      <td>None</td>\n",
       "      <td>France</td>\n",
       "      <td>en:france</td>\n",
       "      <td>France</td>\n",
       "      <td>None</td>\n",
       "      <td>None</td>\n",
       "      <td>NaN</td>\n",
       "      <td>NaN</td>\n",
       "      <td>None</td>\n",
       "      <td>None</td>\n",
       "      <td>None</td>\n",
       "      <td>NaN</td>\n",
       "      <td>NaN</td>\n",
       "      <td>None</td>\n",
       "      <td>NaN</td>\n",
       "      <td>unknown</td>\n",
       "      <td>unknown</td>\n",
       "      <td>None</td>\n",
       "      <td>None</td>\n",
       "      <td>1100.0</td>\n",
       "      <td>16.344444</td>\n",
       "      <td>1.90</td>\n",
       "      <td>NaN</td>\n",
       "      <td>NaN</td>\n",
       "      <td>16.000000</td>\n",
       "      <td>4.2</td>\n",
       "      <td>NaN</td>\n",
       "      <td>5.6</td>\n",
       "      <td>0.52832</td>\n",
       "      <td>0.208000</td>\n",
       "      <td>NaN</td>\n",
       "      <td>NaN</td>\n",
       "      <td>NaN</td>\n",
       "      <td>NaN</td>\n",
       "      <td>48.051949</td>\n",
       "      <td>NaN</td>\n",
       "      <td>True</td>\n",
       "      <td>NaN</td>\n",
       "      <td>True</td>\n",
       "    </tr>\n",
       "    <tr>\n",
       "      <th>2</th>\n",
       "      <td>0000000000123</td>\n",
       "      <td>Sauce Sweety chili 0%</td>\n",
       "      <td>None</td>\n",
       "      <td>None</td>\n",
       "      <td>None</td>\n",
       "      <td>None</td>\n",
       "      <td>None</td>\n",
       "      <td>None</td>\n",
       "      <td>None</td>\n",
       "      <td>None</td>\n",
       "      <td>None</td>\n",
       "      <td>None</td>\n",
       "      <td>None</td>\n",
       "      <td>None</td>\n",
       "      <td>None</td>\n",
       "      <td>None</td>\n",
       "      <td>France</td>\n",
       "      <td>en:france</td>\n",
       "      <td>France</td>\n",
       "      <td>None</td>\n",
       "      <td>None</td>\n",
       "      <td>NaN</td>\n",
       "      <td>NaN</td>\n",
       "      <td>None</td>\n",
       "      <td>None</td>\n",
       "      <td>None</td>\n",
       "      <td>NaN</td>\n",
       "      <td>NaN</td>\n",
       "      <td>None</td>\n",
       "      <td>NaN</td>\n",
       "      <td>unknown</td>\n",
       "      <td>unknown</td>\n",
       "      <td>None</td>\n",
       "      <td>None</td>\n",
       "      <td>88.0</td>\n",
       "      <td>0.000000</td>\n",
       "      <td>0.00</td>\n",
       "      <td>NaN</td>\n",
       "      <td>NaN</td>\n",
       "      <td>4.800000</td>\n",
       "      <td>0.4</td>\n",
       "      <td>NaN</td>\n",
       "      <td>0.2</td>\n",
       "      <td>2.04000</td>\n",
       "      <td>0.803150</td>\n",
       "      <td>NaN</td>\n",
       "      <td>NaN</td>\n",
       "      <td>NaN</td>\n",
       "      <td>NaN</td>\n",
       "      <td>NaN</td>\n",
       "      <td>NaN</td>\n",
       "      <td>False</td>\n",
       "      <td>NaN</td>\n",
       "      <td>False</td>\n",
       "    </tr>\n",
       "  </tbody>\n",
       "</table>\n",
       "</div>"
      ],
      "text/plain": [
       "            code           product_name generic_name quantity packaging  \\\n",
       "0  0000000000017       Vitória crackers         None     None      None   \n",
       "1  0000000000031                  Cacao         None    130 g      None   \n",
       "2  0000000000123  Sauce Sweety chili 0%         None     None      None   \n",
       "\n",
       "  packaging_tags brands brands_tags categories categories_tags categories_en  \\\n",
       "0           None   None        None       None            None          None   \n",
       "1           None   None        None       None            None          None   \n",
       "2           None   None        None       None            None          None   \n",
       "\n",
       "  labels labels_tags labels_en purchase_places stores countries  \\\n",
       "0   None        None      None            None   None    France   \n",
       "1   None        None      None            None   None    France   \n",
       "2   None        None      None            None   None    France   \n",
       "\n",
       "  countries_tags countries_en ingredients_text serving_size  serving_quantity  \\\n",
       "0      en:france       France             None         None               NaN   \n",
       "1      en:france       France             None         None               NaN   \n",
       "2      en:france       France             None         None               NaN   \n",
       "\n",
       "   additives_n additives additives_tags additives_en  \\\n",
       "0          NaN      None           None         None   \n",
       "1          NaN      None           None         None   \n",
       "2          NaN      None           None         None   \n",
       "\n",
       "   ingredients_from_palm_oil_n  ingredients_that_may_be_from_palm_oil_n  \\\n",
       "0                          NaN                                      NaN   \n",
       "1                          NaN                                      NaN   \n",
       "2                          NaN                                      NaN   \n",
       "\n",
       "  nutrition_grade_fr nova_group pnns_groups_1 pnns_groups_2 main_category  \\\n",
       "0               None        NaN       unknown       unknown          None   \n",
       "1               None        NaN       unknown       unknown          None   \n",
       "2               None        NaN       unknown       unknown          None   \n",
       "\n",
       "  main_category_en  energy_100g   fat_100g  saturated-fat_100g  \\\n",
       "0             None       1569.0   7.000000                3.08   \n",
       "1             None       1100.0  16.344444                1.90   \n",
       "2             None         88.0   0.000000                0.00   \n",
       "\n",
       "   trans-fat_100g  cholesterol_100g  carbohydrates_100g  sugars_100g  \\\n",
       "0             NaN               NaN           70.099998         15.0   \n",
       "1             NaN               NaN           16.000000          4.2   \n",
       "2             NaN               NaN            4.800000          0.4   \n",
       "\n",
       "   fiber_100g  proteins_100g  salt_100g  sodium_100g  vitamin-a_100g  \\\n",
       "0         NaN            7.8    1.40000     0.551181             NaN   \n",
       "1         NaN            5.6    0.52832     0.208000             NaN   \n",
       "2         NaN            0.2    2.04000     0.803150             NaN   \n",
       "\n",
       "   vitamin-c_100g  calcium_100g  iron_100g  nutrition-score-fr_100g  \\\n",
       "0             NaN           NaN        NaN                      NaN   \n",
       "1             NaN           NaN        NaN                48.051949   \n",
       "2             NaN           NaN        NaN                      NaN   \n",
       "\n",
       "   nutrition-score-uk_100g  imputed_fat_100g  nutrition_grade_fr_encoded  \\\n",
       "0                      NaN             False                         NaN   \n",
       "1                      NaN              True                         NaN   \n",
       "2                      NaN             False                         NaN   \n",
       "\n",
       "   imputed_nutrition-score-fr_100g  \n",
       "0                            False  \n",
       "1                             True  \n",
       "2                            False  "
      ]
     },
     "execution_count": 46,
     "metadata": {},
     "output_type": "execute_result"
    }
   ],
   "source": [
    "data_cleaned.head(3)"
   ]
  },
  {
   "cell_type": "markdown",
   "metadata": {
    "Collapsed": "false"
   },
   "source": [
    "Nous recalculons le taux de remplissage de la colonne 'nutrition-score-fr_100g' pour constater les effets de l'imputation."
   ]
  },
  {
   "cell_type": "code",
   "execution_count": 47,
   "metadata": {
    "Collapsed": "false"
   },
   "outputs": [
    {
     "name": "stdout",
     "output_type": "stream",
     "text": [
      "The filling rate of the column 'nutrition-score-fr_100g' is: 43.65%\n"
     ]
    },
    {
     "data": {
      "text/plain": [
       "0.43646977842903106"
      ]
     },
     "execution_count": 47,
     "metadata": {},
     "output_type": "execute_result"
    }
   ],
   "source": [
    "dataframe = data_cleaned\n",
    "feature_filling_rate(dataframe, feature)"
   ]
  },
  {
   "cell_type": "markdown",
   "metadata": {
    "Collapsed": "false"
   },
   "source": [
    "# Sauvegarde des données pour l'application\n",
    "Nous ne conservons que les produits :\n",
    "* dont le code barre et le nom de produit sont renseignés\n",
    "* dont le score de nutrition est renseigné ou a pu être imputé\n",
    "* commercialisés en France"
   ]
  },
  {
   "cell_type": "markdown",
   "metadata": {
    "Collapsed": "false"
   },
   "source": [
    "### Filtrage des produits distribués en France"
   ]
  },
  {
   "cell_type": "code",
   "execution_count": 48,
   "metadata": {
    "Collapsed": "false"
   },
   "outputs": [],
   "source": [
    "def research_df(dataframe, string, axis=0, case=False):\n",
    "    '''This functions search for a specified string into the cells of a pd.DataFrame.\n",
    "    If axis=0 (default), returns a view of rows containing the string.\n",
    "    If axis=1, returns a view of columns containing the string. (NOT IMPLEMENTED YET)\n",
    "    case=False : non case-sensitive'''\n",
    "    \n",
    "    # Getting the list of the columns name\n",
    "    columns = list(dataframe)\n",
    "    \n",
    "    # Initialize a mask for rows containing the string\n",
    "    index = dataframe.index\n",
    "    mask_global = pd.Series(False, index)\n",
    "    \n",
    "    # Selecting columns with object dtype (to use the .str selector)\n",
    "    str_columns = dataframe.select_dtypes(include='object').columns # index object\n",
    "    \n",
    "    # Iterating upon columns\n",
    "    for column in str_columns:\n",
    "        \n",
    "        # Get a series giving the rows containing the string for this column\n",
    "        mask = dataframe[column].str.contains(string, case=case)\n",
    "        \n",
    "        # Aggregate the rows containing the string with previous ones\n",
    "        mask_global = mask | mask_global # logical \"OR\"\n",
    "    \n",
    "    # Return a view of dataframe with only rows containing the string\n",
    "    return dataframe[mask_global]"
   ]
  },
  {
   "cell_type": "code",
   "execution_count": 49,
   "metadata": {
    "Collapsed": "false"
   },
   "outputs": [
    {
     "data": {
      "text/plain": [
       "27616"
      ]
     },
     "execution_count": 49,
     "metadata": {},
     "output_type": "execute_result"
    }
   ],
   "source": [
    "dataframe = data_cleaned\n",
    "string = 'France'\n",
    "\n",
    "len(research_df(dataframe, string))"
   ]
  },
  {
   "cell_type": "markdown",
   "metadata": {
    "Collapsed": "false"
   },
   "source": [
    "Seuls 28'000 produits possèdent le mot 'France' dans l'un de leurs champs. Ce filtrage élimine presque plus de 90% des produits de la base de données. Nous renonçons à l'effectuer car trop peu de produits sont correctement renseignés en ce qui concerne la distribution."
   ]
  },
  {
   "cell_type": "markdown",
   "metadata": {
    "Collapsed": "false"
   },
   "source": [
    "### Conservation des seules colonnes utiles et sauvegarde finale"
   ]
  },
  {
   "cell_type": "code",
   "execution_count": 50,
   "metadata": {
    "Collapsed": "false"
   },
   "outputs": [
    {
     "name": "stdout",
     "output_type": "stream",
     "text": [
      "There are 334802 products in the final database.\n"
     ]
    },
    {
     "data": {
      "text/html": [
       "<div>\n",
       "<style scoped>\n",
       "    .dataframe tbody tr th:only-of-type {\n",
       "        vertical-align: middle;\n",
       "    }\n",
       "\n",
       "    .dataframe tbody tr th {\n",
       "        vertical-align: top;\n",
       "    }\n",
       "\n",
       "    .dataframe thead th {\n",
       "        text-align: right;\n",
       "    }\n",
       "</style>\n",
       "<table border=\"1\" class=\"dataframe\">\n",
       "  <thead>\n",
       "    <tr style=\"text-align: right;\">\n",
       "      <th></th>\n",
       "      <th>nutrition-score-fr_100g</th>\n",
       "      <th>product_name</th>\n",
       "      <th>saturated-fat_100g</th>\n",
       "      <th>ingredients_from_palm_oil_n</th>\n",
       "      <th>additives_n</th>\n",
       "      <th>sugars_100g</th>\n",
       "      <th>imputed_nutrition-score-fr_100g</th>\n",
       "    </tr>\n",
       "    <tr>\n",
       "      <th>code</th>\n",
       "      <th></th>\n",
       "      <th></th>\n",
       "      <th></th>\n",
       "      <th></th>\n",
       "      <th></th>\n",
       "      <th></th>\n",
       "      <th></th>\n",
       "    </tr>\n",
       "  </thead>\n",
       "  <tbody>\n",
       "    <tr>\n",
       "      <th>8713445020121</th>\n",
       "      <td>73.246750</td>\n",
       "      <td>Farine de riz</td>\n",
       "      <td>0.600000</td>\n",
       "      <td>0.0</td>\n",
       "      <td>0.0</td>\n",
       "      <td>0.800000</td>\n",
       "      <td>True</td>\n",
       "    </tr>\n",
       "    <tr>\n",
       "      <th>8715415457999</th>\n",
       "      <td>25.454546</td>\n",
       "      <td>Vollmilch Schokoladen Lutscher-Stern mit bunte...</td>\n",
       "      <td>19.700001</td>\n",
       "      <td>0.0</td>\n",
       "      <td>3.0</td>\n",
       "      <td>53.700001</td>\n",
       "      <td>False</td>\n",
       "    </tr>\n",
       "    <tr>\n",
       "      <th>8718452146833</th>\n",
       "      <td>72.727272</td>\n",
       "      <td>Biologische volle melk lang hoodbaar</td>\n",
       "      <td>2.200000</td>\n",
       "      <td>NaN</td>\n",
       "      <td>NaN</td>\n",
       "      <td>4.500000</td>\n",
       "      <td>False</td>\n",
       "    </tr>\n",
       "  </tbody>\n",
       "</table>\n",
       "</div>"
      ],
      "text/plain": [
       "               nutrition-score-fr_100g  \\\n",
       "code                                     \n",
       "8713445020121                73.246750   \n",
       "8715415457999                25.454546   \n",
       "8718452146833                72.727272   \n",
       "\n",
       "                                                    product_name  \\\n",
       "code                                                               \n",
       "8713445020121                                      Farine de riz   \n",
       "8715415457999  Vollmilch Schokoladen Lutscher-Stern mit bunte...   \n",
       "8718452146833               Biologische volle melk lang hoodbaar   \n",
       "\n",
       "               saturated-fat_100g  ingredients_from_palm_oil_n  additives_n  \\\n",
       "code                                                                          \n",
       "8713445020121            0.600000                          0.0          0.0   \n",
       "8715415457999           19.700001                          0.0          3.0   \n",
       "8718452146833            2.200000                          NaN          NaN   \n",
       "\n",
       "               sugars_100g  imputed_nutrition-score-fr_100g  \n",
       "code                                                         \n",
       "8713445020121     0.800000                             True  \n",
       "8715415457999    53.700001                            False  \n",
       "8718452146833     4.500000                            False  "
      ]
     },
     "execution_count": 50,
     "metadata": {},
     "output_type": "execute_result"
    }
   ],
   "source": [
    "# Keeping only useful features for application\n",
    "key_features = ['nutrition-score-fr_100g',\n",
    "                'product_name',\n",
    "                'code']\n",
    "\n",
    "secondary_features = ['saturated-fat_100g',\n",
    "            'ingredients_from_palm_oil_n',\n",
    "            'additives_n',\n",
    "            'sugars_100g',\n",
    "            'imputed_nutrition-score-fr_100g',]\n",
    "\n",
    "# Concatenating the 2 lists of features\n",
    "features = key_features + secondary_features\n",
    "\n",
    "final_data = data_cleaned[features]\n",
    "\n",
    "# Droping rows with empty values in for key features\n",
    "final_data = final_data.dropna(subset=key_features)\n",
    "\n",
    "# Print the number of rows in the final database\n",
    "print(\"There are {} products in the final database.\".format(final_data.shape[0]))\n",
    "\n",
    "# Set barcode as index to save space\n",
    "final_data = final_data.set_index('code')\n",
    "\n",
    "# Visualize the few last lines\n",
    "final_data.tail(3)"
   ]
  },
  {
   "cell_type": "code",
   "execution_count": 51,
   "metadata": {
    "Collapsed": "false"
   },
   "outputs": [
    {
     "name": "stdout",
     "output_type": "stream",
     "text": [
      "The size of the final database is: 28026294 bytes.\n"
     ]
    }
   ],
   "source": [
    "# Save as .csv file\n",
    "final_data.to_csv(\"p3_finaldata.csv\")\n",
    "\n",
    "# Print the size of the final database\n",
    "import os\n",
    "print(\"The size of the final database is: {} bytes.\".format(os.path.getsize('p3_finaldata.csv')))"
   ]
  },
  {
   "cell_type": "markdown",
   "metadata": {
    "Collapsed": "false"
   },
   "source": [
    "La base de données finale pèse moins de 30Mo et compte plus de 330'000 produits."
   ]
  },
  {
   "cell_type": "markdown",
   "metadata": {
    "Collapsed": "false"
   },
   "source": [
    "# Synthèse des faits pertinents pour l’application"
   ]
  },
  {
   "cell_type": "markdown",
   "metadata": {
    "Collapsed": "false"
   },
   "source": [
    "1. Amélioration de la lisibilité du Nutri-Score par ré-étalonnage\n",
    "    * Entre 0 et 100\n",
    "    * 0 : mauvais ; 100 : bon\n",
    "\n",
    "\n",
    "2. **Facteurs principaux** du Nutri-Score :\n",
    "    * Facteurs négatifs :\n",
    "        * acides gras saturés\n",
    "        * huile de palme\n",
    "        * additifs\n",
    "        * sucres\n",
    "    * Facteurs positif :\n",
    "        * fer\n",
    "        * fibres\n",
    "        * vitamines\n",
    "\n",
    "\n",
    "3. Nombre de produits pris en charge : **+300'000 produits**\n",
    "    * Impossibilité de filtrer les produits distribués en France\n",
    "    * Imputation du Nutri-Score sur la base :\n",
    "        * code-barre (fusion des doublons)\n",
    "        * nom de produit, catégories de produit…      \n",
    "    * Améliorations possibles :\n",
    "        * prise en charge de l'EAN8 (8 chiffres, pour les petits emballages)\n",
    "        * imputation du Nutri-Score :\n",
    "            * grâce à la formule du Nutri-Score\n",
    "   * grâce à des algorithmes d'apprentissage automatique\n",
    "\n",
    "\n",
    "4. Taille de la base de données (**< 30 Mo**) :\n",
    "    * Yuka : 55 Mo + connexion requise\n",
    "    * Application autonome\n",
    "    * Transparence pour l'utilisateur des Nutri-Score imputés\n",
    "    * Améliorations possibles\n",
    "        * fichier binaire et/ou compressé\n",
    "        * stocker la note (a-e) plutôt que le score (0-100)"
   ]
  },
  {
   "cell_type": "code",
   "execution_count": null,
   "metadata": {
    "Collapsed": "false"
   },
   "outputs": [],
   "source": []
  }
 ],
 "metadata": {
  "kernelspec": {
   "display_name": "Python 3",
   "language": "python",
   "name": "python3"
  },
  "language_info": {
   "codemirror_mode": {
    "name": "ipython",
    "version": 3
   },
   "file_extension": ".py",
   "mimetype": "text/x-python",
   "name": "python",
   "nbconvert_exporter": "python",
   "pygments_lexer": "ipython3",
   "version": "3.7.4"
  }
 },
 "nbformat": 4,
 "nbformat_minor": 4
}
